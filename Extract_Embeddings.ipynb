{
 "cells": [
  {
   "cell_type": "markdown",
   "id": "2b2ad08f-d788-4ea3-8a9b-876aa3dd7b27",
   "metadata": {},
   "source": [
    "# Extracting Word Embeddings ItWac\n",
    "\n",
    "Documentazione:\n",
    "http://www.italianlp.it/resources/italian-word-embeddings/\n",
    "\n",
    "\n",
    "Link per il download: \n",
    "\n",
    "Senza splitting dei clitici e delle preposizioni ( _ Not _ ):\n",
    "\n",
    "- Dimensione 32: www.italianlp.it/t2k-resources/it/w2v/itwac/itwac32.sqlite\n",
    "\n",
    "\n",
    "- Dimensione 32: www.italianlp.it/t2k-resources/it/w2v/twitter/twitter32.sqlite\n",
    "\n",
    "\n",
    "Con splitting dei clitici e delle preposizioni ( _ With_ ):\n",
    "\n",
    "- Dimensione 32: www.italianlp.it/t2k-resources/it/w2v/itwac-clitics/itwac32.sqlite\n",
    "- Dimensione 32: www.italianlp.it/t2k-resources/it/w2v/twitter-clitics/twitter32.sqlite\n"
   ]
  },
  {
   "cell_type": "code",
   "execution_count": 1,
   "id": "0e0a684e-b2d1-4654-a7ba-81ee618cd7c9",
   "metadata": {},
   "outputs": [],
   "source": [
    "#Per farlo modifico in cella 2 il nome del file aggiungendo _Not_ e _With_ al path\n",
    "#inoltre aggiungo encoding utf-8 per ogni with open (cella 5)"
   ]
  },
  {
   "cell_type": "code",
   "execution_count": 2,
   "id": "0c4a294b-4269-478b-8d81-accb0b667d5d",
   "metadata": {
    "tags": []
   },
   "outputs": [],
   "source": [
    "import sqlite3\n",
    "import pandas as pd\n",
    "import numpy as np\n",
    "import csv\n",
    "import os.path"
   ]
  },
  {
   "cell_type": "code",
   "execution_count": 3,
   "id": "6f6c2ae6-2eb1-416a-9cf7-062d05e6a1ad",
   "metadata": {
    "tags": []
   },
   "outputs": [],
   "source": [
    "# Dimensione embedding\n",
    "embeddings_dim = 32\n",
    " \n",
    "# Con splitting dei clitici e delle preposizioni\n",
    "#embeddings_path_with = f'data/word_embeddings/itwac_With_{embeddings_dim}.txt'\n",
    "# Senza splitting dei clitici e delle preposizioni\n",
    "#ITAWAC embeddings_path_not = f'data/word_embeddings/itwac_Not_{embeddings_dim}.txt'\n",
    "sql_path = f'twitter{embeddings_dim}.sqlite'\n",
    "txt_path = f'twitter{embeddings_dim}.txt'"
   ]
  },
  {
   "cell_type": "code",
   "execution_count": 4,
   "id": "c6e666e3-c3ab-4e4d-ac1a-07a1fa2acd8f",
   "metadata": {
    "tags": []
   },
   "outputs": [],
   "source": [
    "con = sqlite3.connect(sql_path)"
   ]
  },
  {
   "cell_type": "code",
   "execution_count": 5,
   "id": "64b68f21-d466-4853-898e-381c7d6ec7b2",
   "metadata": {
    "tags": []
   },
   "outputs": [],
   "source": [
    "cur = con.cursor()"
   ]
  },
  {
   "cell_type": "code",
   "execution_count": 6,
   "id": "26e082ad-34ec-4b92-87bc-2961d744ee4c",
   "metadata": {
    "tags": []
   },
   "outputs": [],
   "source": [
    "with open(txt_path, 'w+', encoding='utf-8') as out_file:\n",
    "    for embedding in cur.execute(\"SELECT * FROM store\"):\n",
    "        str_embedding = [str(el) for el in embedding[:-1]]\n",
    "        try:\n",
    "            out_file.write('\\t'.join(str_embedding)+'\\n')\n",
    "        except:\n",
    "            print(str_embedding)\n",
    "out_file.close()"
   ]
  },
  {
   "cell_type": "code",
   "execution_count": null,
   "id": "f6768c7a-0bdb-4c04-8285-79d88c9979f2",
   "metadata": {},
   "outputs": [],
   "source": []
  },
  {
   "cell_type": "code",
   "execution_count": null,
   "id": "f81fcb21-28b9-44dc-aada-9482ff3bd3f1",
   "metadata": {},
   "outputs": [],
   "source": []
  }
 ],
 "metadata": {
  "kernelspec": {
   "display_name": "Python 3 (ipykernel)",
   "language": "python",
   "name": "python3"
  },
  "language_info": {
   "codemirror_mode": {
    "name": "ipython",
    "version": 3
   },
   "file_extension": ".py",
   "mimetype": "text/x-python",
   "name": "python",
   "nbconvert_exporter": "python",
   "pygments_lexer": "ipython3",
   "version": "3.10.9"
  }
 },
 "nbformat": 4,
 "nbformat_minor": 5
}
