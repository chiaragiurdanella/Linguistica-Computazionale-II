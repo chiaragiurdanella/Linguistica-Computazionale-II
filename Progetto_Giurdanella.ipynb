{
 "cells": [
  {
   "cell_type": "markdown",
   "id": "2efa95f8-449e-48ec-82c1-5cd354dadc77",
   "metadata": {
    "tags": []
   },
   "source": [
    "# TASK IronITA  - Linguistica computazionale II\n",
    "### Chiara Giurdanella 560686"
   ]
  },
  {
   "cell_type": "markdown",
   "id": "68b4b0ed-aa5d-4ebb-a9f2-0550c6c483e7",
   "metadata": {},
   "source": [
    "In questo progetto è stato affrontato il seguente subtask A, di Irony detection:\n",
    "\n",
    "- Classificazione a due classi (o binaria) in cui il sistema deve prevedere se un tweet è ironico o meno:\n",
    "\n",
    "http://www.di.unito.it/~tutreeb/ironita-evalita18/index.html"
   ]
  },
  {
   "cell_type": "code",
   "execution_count": 1,
   "id": "36973e85-fd59-4a6a-bbba-9ec80ac25c68",
   "metadata": {
    "tags": []
   },
   "outputs": [],
   "source": [
    "import os\n",
    "import pandas as pd\n",
    "from sklearn.preprocessing import MinMaxScaler\n",
    "from sklearn.svm import LinearSVC\n",
    "from sklearn.metrics import classification_report, ConfusionMatrixDisplay, confusion_matrix\n",
    "from sklearn.metrics import accuracy_score\n",
    "from sklearn.model_selection import KFold\n",
    "import numpy as np\n",
    "import math\n",
    "from sklearn.feature_extraction import DictVectorizer\n",
    "from sklearn.preprocessing import MaxAbsScaler\n",
    "import re\n",
    "import matplotlib.pyplot as plt"
   ]
  },
  {
   "cell_type": "code",
   "execution_count": 2,
   "id": "b3bd93c2-7918-41c4-94b8-c80799f38aa3",
   "metadata": {},
   "outputs": [],
   "source": [
    "#lettura dataset\n",
    "df= pd.read_csv('dataset_ironita_2018.csv', delimiter=\",\")"
   ]
  },
  {
   "cell_type": "markdown",
   "id": "2fe2d580-a8f3-4c80-881b-0e852d359440",
   "metadata": {
    "tags": []
   },
   "source": [
    "## Prima analisi\n",
    "\n",
    "1. Sviluppare un classificatore basato su SVM lineari che prende in input una rappresentazione del testo basata solo su informazioni linguistiche non lessicali estratte utilizzando il sistema Profiling-UD. Riportare i seguenti risultati:\n",
    "\n",
    "    - valutazione del sistema con un processo di 5-fold cross validation condotto sul training\n",
    "    set;\n",
    "    - valutazione del sistema sul test set ufficiale del task;\n",
    "    - elenco delle 15 feature più importanti per la classificazione."
   ]
  },
  {
   "cell_type": "code",
   "execution_count": 3,
   "id": "22ae8873-cbfa-445c-a7ae-787387a8f83d",
   "metadata": {},
   "outputs": [],
   "source": [
    "#verifica se la cartella 'txt_files' esiste\n",
    "if not os.path.exists('txt_files'):\n",
    "    # se non esiste la crea\n",
    "    os.makedirs('txt_files')\n",
    "#itera su ogni riga del dataframe    \n",
    "for index, row in df.iterrows():\n",
    "    #crea il nome del file utilizzando i valori delle colonne 'set', 'twitter_id' e 'irony'\n",
    "    filename = str(row['set']) + '#' + str(row['twitter_id']) + '_' + str(row['irony']) + '.txt'   \n",
    "    #definisce la cartella in cui il file sarà salvato\n",
    "    folder = 'txt_files'    \n",
    "    #crea il percorso completo del file utilizzando la cartella e il nome del file\n",
    "    filepath = os.path.join(folder,filename)\n",
    "    #apertura file in modalità scrittura\n",
    "    with open(filepath, 'w',encoding='utf-8') as f:\n",
    "        #scrive il testo della colonna 'text' nel file\n",
    "        f.write(row['text'])"
   ]
  },
  {
   "cell_type": "code",
   "execution_count": 4,
   "id": "85ec4cd7-a73e-4f63-89f3-cbdd5282b0d9",
   "metadata": {},
   "outputs": [],
   "source": [
    "profiling_output_path = '6756.csv'"
   ]
  },
  {
   "cell_type": "code",
   "execution_count": 5,
   "id": "7d951a29-7042-42dd-a03f-b231af807e7b",
   "metadata": {},
   "outputs": [],
   "source": [
    "def load_dataset(src_path):\n",
    "    #lista vuota per memorizzare il dataset\n",
    "    dataset = []\n",
    "    #itera su ogni riga del file di origine\n",
    "    for line in open(src_path, 'r'):\n",
    "        #dividela riga utilizzando il carattere di tabulazione '\\t'\n",
    "        splitted_line = line.strip().split('\\t')\n",
    "        #verifica se la riga corrisponde all'intestazione del file\n",
    "        if splitted_line[0] == 'Filename':\n",
    "            #estrae i nomi delle features dalla riga\n",
    "            features_names = splitted_line[1:]\n",
    "        else:\n",
    "            #aggiunge la riga al dataset come elemento separato\n",
    "            dataset.append(splitted_line)\n",
    "    #restituisce il dataset e i nomi delle features estratte dall'intestazione\n",
    "    return dataset, features_names"
   ]
  },
  {
   "cell_type": "code",
   "execution_count": 6,
   "id": "1e37e556-c974-4638-8c06-b6a4648cec71",
   "metadata": {},
   "outputs": [],
   "source": [
    "#la funzione load_dataset viene chiamata con l'argomento profiling_output_path\n",
    "dataset, features_names = load_dataset(profiling_output_path)"
   ]
  },
  {
   "cell_type": "code",
   "execution_count": 7,
   "id": "1b8060d5-4bbd-400d-a67d-1707fcc01773",
   "metadata": {},
   "outputs": [
    {
     "name": "stdout",
     "output_type": "stream",
     "text": [
      "Numero features: 133\n"
     ]
    }
   ],
   "source": [
    "print(f'Numero features: {len(features_names)}') #stampa il numero di caratteristiche nel dataset"
   ]
  },
  {
   "cell_type": "markdown",
   "id": "6d4c9383-bd54-442e-9ba2-39974be205ae",
   "metadata": {},
   "source": [
    "## Divisione in train e test"
   ]
  },
  {
   "cell_type": "code",
   "execution_count": 8,
   "id": "be240716-4d15-4c13-b1cf-853c68cbcc3e",
   "metadata": {},
   "outputs": [],
   "source": [
    "def split_train_test(dataset):\n",
    "    train_dataset = [] #lista vuota per memorizzare il training set\n",
    "    test_dataset = [] #lista vuota per memorizzare il test set\n",
    "    #itera su ogni riga/file nel dataset\n",
    "    for file_line in dataset:\n",
    "        #ottiene il nome del file dalla riga\n",
    "        file_name = file_line[0]\n",
    "        #verifica se il nome del file contiene la stringa 'training'\n",
    "        if 'training' in file_name:\n",
    "            #aggiunge la riga al training set\n",
    "            train_dataset.append(file_line)\n",
    "        else:\n",
    "            # altrimenti la aggiunge al test set\n",
    "            test_dataset.append(file_line)\n",
    "    return train_dataset, test_dataset"
   ]
  },
  {
   "cell_type": "code",
   "execution_count": 9,
   "id": "7d8648ca-7d21-42ec-96c4-d4027eb65320",
   "metadata": {},
   "outputs": [
    {
     "name": "stdout",
     "output_type": "stream",
     "text": [
      "Tweet training set: 3977\n",
      "Tweet test set: 872\n"
     ]
    }
   ],
   "source": [
    "train_dataset, test_dataset = split_train_test(dataset)\n",
    "print('Tweet training set:', len(train_dataset)) #stampa il numero di tweet nel training set\n",
    "print('Tweet test set:', len(test_dataset)) #stampa il numero di tweet nel test set"
   ]
  },
  {
   "cell_type": "markdown",
   "id": "fe75d3f7-8f5c-43dc-ba3a-27fd77ac97fb",
   "metadata": {},
   "source": [
    "## Creazione lista delle labels"
   ]
  },
  {
   "cell_type": "code",
   "execution_count": 10,
   "id": "9cc6ac27-9a7c-4215-9de3-17af211f2439",
   "metadata": {},
   "outputs": [],
   "source": [
    "def create_label_list(dataset):\n",
    "    labels = []#lista vuota per memorizzare le etichette\n",
    "    #per ogni riga/file nel dataset\n",
    "    for file_line in dataset:\n",
    "        #ottiene il nome del file\n",
    "        file_name = file_line[0]\n",
    "        #rimuove l'estensione \".conllu\" dal nome del file\n",
    "        file_name = file_name[0:-len('.conllu')]\n",
    "        #effettua la suddivisione del nome del file utilizzando il carattere '_'\n",
    "        splitted_file_name = file_name.split('_')\n",
    "        #ottiene l'elemento in posizione 2 della suddivisione, che corrisponde alla classe irony\n",
    "        irony = splitted_file_name[2]\n",
    "        #aggiunge la classe alla lista precedentemente creata\n",
    "        labels.append(irony)\n",
    "    return labels"
   ]
  },
  {
   "cell_type": "code",
   "execution_count": 11,
   "id": "b44f53b4-43e7-4206-9e24-09916f9cc311",
   "metadata": {},
   "outputs": [],
   "source": [
    "train_labels = create_label_list(train_dataset) #crea la lista di labels per il training set\n",
    "test_labels = create_label_list(test_dataset) #crea la lista di labels per il test set"
   ]
  },
  {
   "cell_type": "code",
   "execution_count": 12,
   "id": "5bd374b6-dfa0-4455-ad9d-17850fddc773",
   "metadata": {},
   "outputs": [],
   "source": [
    "#rimozione del primo elemento (nome del file) per ogni documento di train e test set\n",
    "for doc in train_dataset:\n",
    "    doc.pop(0)\n",
    "\n",
    "for doc in test_dataset:\n",
    "    doc.pop(0)"
   ]
  },
  {
   "cell_type": "markdown",
   "id": "a9d11cc1-1dc2-46d9-a218-07555a2df1ce",
   "metadata": {},
   "source": [
    "## Normalizzazione"
   ]
  },
  {
   "cell_type": "markdown",
   "id": "72276bcd-ac9e-4251-81ab-84abacda6b34",
   "metadata": {},
   "source": [
    "Prima di classificare dobbiamo normalizzare tutti i valori delle features tra 0 e 1. \n",
    "Per farlo utilizziamo il MinMaxScaler."
   ]
  },
  {
   "cell_type": "code",
   "execution_count": 13,
   "id": "148d0872-00a5-4043-9452-1f0e7792d133",
   "metadata": {},
   "outputs": [],
   "source": [
    "#creazione di un oggetto MinMaxScaler\n",
    "scaler = MinMaxScaler()\n",
    "#scala i dati nel training set utilizzando fit_transform\n",
    "X_train = scaler.fit_transform(train_dataset)"
   ]
  },
  {
   "cell_type": "markdown",
   "id": "551844d2-d619-48f0-b90b-fa9b00853964",
   "metadata": {},
   "source": [
    "## Classificazione"
   ]
  },
  {
   "cell_type": "markdown",
   "id": "f153a56d-91e9-43ec-8597-404ae3e79626",
   "metadata": {},
   "source": [
    "Addestriamo un Support Vector Classifier Lineare. Viene un oggetto LinearSVC con il parametro dual impostato su False, che indica l'uso di un algoritmo di ottimizzazione specifico per problemi di classificazione binaria. Successivamente il modello viene addestrato utilizzando il metodo fit con X_train come dati di addestramento e train_labels come etichette di addestramento."
   ]
  },
  {
   "cell_type": "code",
   "execution_count": 14,
   "id": "6733f95a-2b35-4118-b683-f86626999801",
   "metadata": {},
   "outputs": [
    {
     "data": {
      "text/html": [
       "<style>#sk-container-id-1 {color: black;background-color: white;}#sk-container-id-1 pre{padding: 0;}#sk-container-id-1 div.sk-toggleable {background-color: white;}#sk-container-id-1 label.sk-toggleable__label {cursor: pointer;display: block;width: 100%;margin-bottom: 0;padding: 0.3em;box-sizing: border-box;text-align: center;}#sk-container-id-1 label.sk-toggleable__label-arrow:before {content: \"▸\";float: left;margin-right: 0.25em;color: #696969;}#sk-container-id-1 label.sk-toggleable__label-arrow:hover:before {color: black;}#sk-container-id-1 div.sk-estimator:hover label.sk-toggleable__label-arrow:before {color: black;}#sk-container-id-1 div.sk-toggleable__content {max-height: 0;max-width: 0;overflow: hidden;text-align: left;background-color: #f0f8ff;}#sk-container-id-1 div.sk-toggleable__content pre {margin: 0.2em;color: black;border-radius: 0.25em;background-color: #f0f8ff;}#sk-container-id-1 input.sk-toggleable__control:checked~div.sk-toggleable__content {max-height: 200px;max-width: 100%;overflow: auto;}#sk-container-id-1 input.sk-toggleable__control:checked~label.sk-toggleable__label-arrow:before {content: \"▾\";}#sk-container-id-1 div.sk-estimator input.sk-toggleable__control:checked~label.sk-toggleable__label {background-color: #d4ebff;}#sk-container-id-1 div.sk-label input.sk-toggleable__control:checked~label.sk-toggleable__label {background-color: #d4ebff;}#sk-container-id-1 input.sk-hidden--visually {border: 0;clip: rect(1px 1px 1px 1px);clip: rect(1px, 1px, 1px, 1px);height: 1px;margin: -1px;overflow: hidden;padding: 0;position: absolute;width: 1px;}#sk-container-id-1 div.sk-estimator {font-family: monospace;background-color: #f0f8ff;border: 1px dotted black;border-radius: 0.25em;box-sizing: border-box;margin-bottom: 0.5em;}#sk-container-id-1 div.sk-estimator:hover {background-color: #d4ebff;}#sk-container-id-1 div.sk-parallel-item::after {content: \"\";width: 100%;border-bottom: 1px solid gray;flex-grow: 1;}#sk-container-id-1 div.sk-label:hover label.sk-toggleable__label {background-color: #d4ebff;}#sk-container-id-1 div.sk-serial::before {content: \"\";position: absolute;border-left: 1px solid gray;box-sizing: border-box;top: 0;bottom: 0;left: 50%;z-index: 0;}#sk-container-id-1 div.sk-serial {display: flex;flex-direction: column;align-items: center;background-color: white;padding-right: 0.2em;padding-left: 0.2em;position: relative;}#sk-container-id-1 div.sk-item {position: relative;z-index: 1;}#sk-container-id-1 div.sk-parallel {display: flex;align-items: stretch;justify-content: center;background-color: white;position: relative;}#sk-container-id-1 div.sk-item::before, #sk-container-id-1 div.sk-parallel-item::before {content: \"\";position: absolute;border-left: 1px solid gray;box-sizing: border-box;top: 0;bottom: 0;left: 50%;z-index: -1;}#sk-container-id-1 div.sk-parallel-item {display: flex;flex-direction: column;z-index: 1;position: relative;background-color: white;}#sk-container-id-1 div.sk-parallel-item:first-child::after {align-self: flex-end;width: 50%;}#sk-container-id-1 div.sk-parallel-item:last-child::after {align-self: flex-start;width: 50%;}#sk-container-id-1 div.sk-parallel-item:only-child::after {width: 0;}#sk-container-id-1 div.sk-dashed-wrapped {border: 1px dashed gray;margin: 0 0.4em 0.5em 0.4em;box-sizing: border-box;padding-bottom: 0.4em;background-color: white;}#sk-container-id-1 div.sk-label label {font-family: monospace;font-weight: bold;display: inline-block;line-height: 1.2em;}#sk-container-id-1 div.sk-label-container {text-align: center;}#sk-container-id-1 div.sk-container {/* jupyter's `normalize.less` sets `[hidden] { display: none; }` but bootstrap.min.css set `[hidden] { display: none !important; }` so we also need the `!important` here to be able to override the default hidden behavior on the sphinx rendered scikit-learn.org. See: https://github.com/scikit-learn/scikit-learn/issues/21755 */display: inline-block !important;position: relative;}#sk-container-id-1 div.sk-text-repr-fallback {display: none;}</style><div id=\"sk-container-id-1\" class=\"sk-top-container\"><div class=\"sk-text-repr-fallback\"><pre>LinearSVC(dual=False)</pre><b>In a Jupyter environment, please rerun this cell to show the HTML representation or trust the notebook. <br />On GitHub, the HTML representation is unable to render, please try loading this page with nbviewer.org.</b></div><div class=\"sk-container\" hidden><div class=\"sk-item\"><div class=\"sk-estimator sk-toggleable\"><input class=\"sk-toggleable__control sk-hidden--visually\" id=\"sk-estimator-id-1\" type=\"checkbox\" checked><label for=\"sk-estimator-id-1\" class=\"sk-toggleable__label sk-toggleable__label-arrow\">LinearSVC</label><div class=\"sk-toggleable__content\"><pre>LinearSVC(dual=False)</pre></div></div></div></div></div>"
      ],
      "text/plain": [
       "LinearSVC(dual=False)"
      ]
     },
     "execution_count": 14,
     "metadata": {},
     "output_type": "execute_result"
    }
   ],
   "source": [
    "svc = LinearSVC(dual=False)\n",
    "svc.fit(X_train, train_labels)"
   ]
  },
  {
   "cell_type": "markdown",
   "id": "93e8ccd6-6721-4621-9fed-f9d85f9fafc6",
   "metadata": {},
   "source": [
    "Il codice utilizza la funzione classification_report per valutare le previsioni del modello svc sui dati di addestramento. Questa funzione calcola e stampa un report di valutazione che include le metriche di precision, recall, f1-score e support per ogni classe."
   ]
  },
  {
   "cell_type": "markdown",
   "id": "2236bb6d-9167-4c48-81c2-0ef162f2a63c",
   "metadata": {},
   "source": [
    "## K-fold cross validation\n",
    "\n",
    "Creazione dei 5 fold su cui verrà eseguita la classificazione"
   ]
  },
  {
   "cell_type": "code",
   "execution_count": 15,
   "id": "8b21f449-0952-4e5f-8c33-b30779b78c51",
   "metadata": {},
   "outputs": [],
   "source": [
    "#converte la lista train_labels in un array NumPy\n",
    "y_train = np.asarray(train_labels)\n",
    "y_test = np.asarray(test_labels)"
   ]
  },
  {
   "cell_type": "code",
   "execution_count": 16,
   "id": "cd4b81fa-706d-467f-810f-37ceef5502e9",
   "metadata": {},
   "outputs": [
    {
     "name": "stdout",
     "output_type": "stream",
     "text": [
      "3181 796\n",
      "3181 796\n",
      "3182 795\n",
      "3182 795\n",
      "3182 795\n"
     ]
    }
   ],
   "source": [
    "#creazione di un oggetto KFold, con k=5\n",
    "splitter = KFold(n_splits=5, random_state=42, shuffle=True)\n",
    "#divisione dei dati in fold\n",
    "folds = list(splitter.split(X_train))\n",
    "for i in range(len(folds)): #per ciascun fold\n",
    "    #stampa la lunghezza dei dati di training e dei dati di test\n",
    "    print(len(folds[i][0]), len(folds[i][1]))"
   ]
  },
  {
   "cell_type": "code",
   "execution_count": 17,
   "id": "130056ff-2b9c-4f9d-a096-3ef476651310",
   "metadata": {},
   "outputs": [
    {
     "name": "stdout",
     "output_type": "stream",
     "text": [
      "Accuracy fold 1: 0.6482412060301508\n",
      "Accuracy fold 2: 0.6469849246231156\n",
      "Accuracy fold 3: 0.6666666666666666\n",
      "Accuracy fold 4: 0.6477987421383647\n",
      "Accuracy fold 5: 0.660377358490566\n"
     ]
    }
   ],
   "source": [
    "all_y_true = [] #lista per memorizzare tutte le etichette di test reali\n",
    "all_y_pred = [] #lista per memorizzare tutte le etichette predette\n",
    "#per ciascun fold estraggo\n",
    "for i in range(len(folds)):\n",
    "    train_ids = folds[i][0] #indici dei dati di training per il fold corrente\n",
    "    test_ids = folds[i][1] #indici dei dati di test per il fold corrente\n",
    "    \n",
    "    fold_X_train = X_train[train_ids] #dati di addestramento per il fold corrente\n",
    "    fold_y_train = y_train[train_ids] #etichette di training per il fold corrente\n",
    "\n",
    "    fold_X_test = X_train[test_ids] #dati di test per il fold corrente\n",
    "    fold_y_test = y_train[test_ids] #etichette di test per il fold corrente\n",
    "    \n",
    "    #creazione di un nuovo modello LinearSVC per il fold corrente\n",
    "    kfold_svc = LinearSVC(dual=False)\n",
    "    kfold_svc.fit(fold_X_train, fold_y_train) #addestramento del modello sul fold corrente\n",
    "    fold_y_pred = kfold_svc.predict(fold_X_test) #predizioni sul fold corrente\n",
    "    fold_accuracy = accuracy_score(fold_y_test, fold_y_pred) #calcolo dell'accuracy sul fold corrente\n",
    "   \n",
    "    all_y_true += fold_y_test.tolist() #aggiunta delle etichette di test alla lista\n",
    "    all_y_pred += fold_y_pred.tolist() #aggiunta delle predizioni alla lista\n",
    "    print(f\"Accuracy fold {i+1}: {fold_accuracy}\") #stampa dell'accuratezza del fold corrente"
   ]
  },
  {
   "cell_type": "code",
   "execution_count": 18,
   "id": "3c2935c4-557f-4177-ab2e-1ac1832188b7",
   "metadata": {},
   "outputs": [
    {
     "name": "stdout",
     "output_type": "stream",
     "text": [
      "              precision    recall  f1-score   support\n",
      "\n",
      "           0       0.66      0.60      0.63      1954\n",
      "           1       0.65      0.71      0.68      2023\n",
      "\n",
      "    accuracy                           0.65      3977\n",
      "   macro avg       0.66      0.65      0.65      3977\n",
      "weighted avg       0.65      0.65      0.65      3977\n",
      "\n"
     ]
    }
   ],
   "source": [
    "#valutazione del modello sulla base delle labels di test effettive e delle previsioni effettuate dal modello\n",
    "print(classification_report(all_y_true, all_y_pred, zero_division=0))"
   ]
  },
  {
   "cell_type": "code",
   "execution_count": 19,
   "id": "d6575635-8249-4ebb-abb5-598b5383de77",
   "metadata": {},
   "outputs": [
    {
     "data": {
      "image/png": "[encoded data removed]",
      "text/plain": [
       "<Figure size 640x480 with 2 Axes>"
      ]
     },
     "metadata": {},
     "output_type": "display_data"
    }
   ],
   "source": [
    "#visualizzazione della matrice di confusione\n",
    "ConfusionMatrixDisplay.from_predictions(all_y_true, all_y_pred, xticks_rotation='vertical', cmap='Blues');"
   ]
  },
  {
   "cell_type": "markdown",
   "id": "cd5ec3c8-7a77-451a-8d60-c98de676a49b",
   "metadata": {},
   "source": [
    "## Test modello"
   ]
  },
  {
   "cell_type": "markdown",
   "id": "d2309e91-55db-4d5a-8a71-01599441c27a",
   "metadata": {},
   "source": [
    "Con il metodo transform, i dati di test vengono trasformati utilizzando le stesse medie e deviazioni standard calcolate sui dati di addestramento. In questo modo, i dati di test vengono resi coerenti con la scala applicata ai dati di addestramento."
   ]
  },
  {
   "cell_type": "code",
   "execution_count": 20,
   "id": "a8e3ee8e-9b05-486a-b99c-2b42ba1b2169",
   "metadata": {},
   "outputs": [],
   "source": [
    "#standardizzazione dei dati di test\n",
    "X_test = scaler.transform(test_dataset)"
   ]
  },
  {
   "cell_type": "code",
   "execution_count": 21,
   "id": "b77c0620-c659-4655-8cf7-a161ee656d8f",
   "metadata": {},
   "outputs": [
    {
     "name": "stdout",
     "output_type": "stream",
     "text": [
      "              precision    recall  f1-score   support\n",
      "\n",
      "           0       0.69      0.61      0.64       437\n",
      "           1       0.65      0.72      0.68       435\n",
      "\n",
      "    accuracy                           0.67       872\n",
      "   macro avg       0.67      0.67      0.66       872\n",
      "weighted avg       0.67      0.67      0.66       872\n",
      "\n"
     ]
    }
   ],
   "source": [
    "#esegue le previsioni sulle caratteristiche di test\n",
    "test_predictions = svc.predict(X_test)\n",
    "#report di classificazione per la valutazione del modello\n",
    "print(classification_report(test_labels, test_predictions, zero_division=0))"
   ]
  },
  {
   "cell_type": "code",
   "execution_count": 22,
   "id": "90119af0-badf-42a4-a630-5d2e9791e74e",
   "metadata": {},
   "outputs": [
    {
     "data": {
      "image/png": "[encoded data removed]",
      "text/plain": [
       "<Figure size 640x480 with 2 Axes>"
      ]
     },
     "metadata": {},
     "output_type": "display_data"
    }
   ],
   "source": [
    "#visualizzazione della matrice di confusione\n",
    "ConfusionMatrixDisplay.from_predictions(test_labels, test_predictions, xticks_rotation='vertical', cmap='Blues');"
   ]
  },
  {
   "cell_type": "markdown",
   "id": "a671222d-5563-4a1d-8cca-62685d3b4e6f",
   "metadata": {},
   "source": [
    "## Feature importance"
   ]
  },
  {
   "cell_type": "markdown",
   "id": "80f13ec3-593e-4d4d-8971-56c99e83ef67",
   "metadata": {},
   "source": [
    "L'attributo svc.coef_ restituisce i coefficienti appresi dal modello addestrato svc. La forma dell'array dei coefficienti dipende dal numero di classi nel problema di classificazione. Se il problema di classificazione ha solo due classi (n_classes = 2), allora l'array dei coefficienti avrà forma (1, n_features), dove n_features è il numero di caratteristiche utilizzate per l'addestramento del modello."
   ]
  },
  {
   "cell_type": "code",
   "execution_count": 23,
   "id": "52608665-69e6-470a-a572-f3ee29b8af71",
   "metadata": {},
   "outputs": [
    {
     "data": {
      "text/plain": [
       "(1, 133)"
      ]
     },
     "execution_count": 23,
     "metadata": {},
     "output_type": "execute_result"
    }
   ],
   "source": [
    "coefs = svc.coef_\n",
    "coefs.shape"
   ]
  },
  {
   "cell_type": "code",
   "execution_count": 24,
   "id": "75c9e578-a1f2-45a9-a51d-f9836fe6a932",
   "metadata": {},
   "outputs": [
    {
     "name": "stdout",
     "output_type": "stream",
     "text": [
      "Feature importance classe 0\n"
     ]
    },
    {
     "data": {
      "image/png": "[encoded data removed]",
      "text/plain": [
       "<Figure size 640x480 with 1 Axes>"
      ]
     },
     "metadata": {},
     "output_type": "display_data"
    }
   ],
   "source": [
    "idx = 0\n",
    "#seleziona i coefficienti per la classe specificata dall'indice idx\n",
    "class_coefs = coefs[idx]\n",
    "#creazione del dizionario delle feature importances\n",
    "feature_importances = {feature_name: coef for feature_name, coef in zip(features_names, class_coefs)}\n",
    "#ordinamento delle feature importancesin ordine decrescente\n",
    "sorted_feature_importances = dict(sorted(feature_importances.items(), key=lambda item: item[1], reverse=True))\n",
    "#creazione di un barplot per mostrare le 15 feature più importanti per la classe 0\n",
    "num_to_plot = 15\n",
    "print(f'Feature importance classe {svc.classes_[idx]}')\n",
    "plt.barh(range(num_to_plot), list(sorted_feature_importances.values())[:num_to_plot], align='center')\n",
    "plt.yticks(range(num_to_plot), list(sorted_feature_importances.keys())[:num_to_plot])\n",
    "plt.show()"
   ]
  },
  {
   "cell_type": "markdown",
   "id": "7e960b22-b29f-4ef9-a6d2-a18942dc6604",
   "metadata": {},
   "source": [
    "## Seconda analisi\n",
    "Sviluppare un classificatore basato su SVM lineari che prende in input una rappresentazione del testo basata su n-grammi di caratteri, parole e part-of-speech. Riportare i seguenti risultati:\n",
    "\n",
    "   - testare diverse rappresentazioni del testo che variano rispetto alla lunghezza degli ngrammi utilizzati e/o rispetto al tipo di informazione utilizzata all’interno degli ngrammi (forme, lemmi, caratteri, part-of-speech) e valutare i diversi sistemi con un processo di 5-fold cross validation condotto sul training set.\n",
    "    \n",
    "   - valutazione sul test set ufficiale del miglior sistema rispetto ai risultati ottenuti con il processo di 5-fold cross validation del punto sopra."
   ]
  },
  {
   "cell_type": "code",
   "execution_count": 25,
   "id": "e3d56d17-52bf-4f70-a2a1-ea2b97397442",
   "metadata": {},
   "outputs": [],
   "source": [
    "#percorso della directory in cui si trovano le annotazioni linguistiche dei file\n",
    "conllu_dir = 'linguistic annotation of txtfiles'"
   ]
  },
  {
   "cell_type": "code",
   "execution_count": 26,
   "id": "dbc93f48-d6ca-4c2e-b9b1-b744ad3d1ad2",
   "metadata": {},
   "outputs": [
    {
     "name": "stdout",
     "output_type": "stream",
     "text": [
      "Documenti training set: 3977\n",
      "Documenti test set: 872\n"
     ]
    }
   ],
   "source": [
    "train_files = []\n",
    "test_files = []\n",
    "\n",
    "for file_name in os.listdir(conllu_dir):\n",
    "    file_path = os.path.join(conllu_dir, file_name)\n",
    "    if 'training' in file_name:\n",
    "        train_files.append(file_path)\n",
    "    elif 'test' in file_name:\n",
    "        test_files.append(file_path)\n",
    "\n",
    "print('Documenti training set:', len(train_files))\n",
    "print('Documenti test set:', len(test_files))"
   ]
  },
  {
   "cell_type": "code",
   "execution_count": 27,
   "id": "392c6583",
   "metadata": {},
   "outputs": [],
   "source": [
    "def create_label_list(list_of_files):\n",
    "    labels = []\n",
    "    for file_path in list_of_files:\n",
    "        #rimuove l'estensione del file\n",
    "        file_path = file_path[:-len('.conllu')]\n",
    "        #divide il percorso del file utilizzando il carattere di underscore\n",
    "        splitted_file_path = file_path.split('_')\n",
    "        #estrae l'etichetta di ironia dal percorso del file\n",
    "        irony = splitted_file_path[1]\n",
    "        #aggiunge l'etichetta alla lista delle etichette\n",
    "        labels.append(irony)\n",
    "    return labels"
   ]
  },
  {
   "cell_type": "code",
   "execution_count": 28,
   "id": "5e5a4dc2",
   "metadata": {},
   "outputs": [],
   "source": [
    "#stampa le prime 10 etichette di ironia per i file di addestramento\n",
    "train_labels = create_label_list(train_files)\n",
    "test_labels = create_label_list(test_files) #crea la lista di labels per il test set"
   ]
  },
  {
   "cell_type": "code",
   "execution_count": 29,
   "id": "775624a8-a7aa-4983-91d7-7dacd966c08e",
   "metadata": {},
   "outputs": [],
   "source": [
    "def get_sentences_from_file(src_path):\n",
    "    tweet_sentences = [] #lista che conterrà tutte le frasi di un tweet\n",
    "    sentence = [] #lista usata per costruire una frase alla volta\n",
    "    #iterazione sulle righe del file specificato da src_path\n",
    "    for line in open(src_path, 'r'):\n",
    "        if line[0].isdigit(): #se la riga inizia con un numero\n",
    "            #divisione della riga in base al carattere di tabulazione\n",
    "            splitted_line = line.strip().split('\\t')\n",
    "            if '-' not in splitted_line[0]: #se l'id della parola non contiene un trattino\n",
    "                token = {\n",
    "                    'word': splitted_line[1],\n",
    "                    'lemma': splitted_line[2],\n",
    "                    'pos': splitted_line[3]\n",
    "                }\n",
    "                sentence.append(token) #aggiunta del token alla lista sentence\n",
    "        if line == '\\n': #se la riga è vuota (la frase è finita)\n",
    "            tweet_sentences.append(sentence) #aggiunta della frase alla lista tweet_sentences\n",
    "            sentence = [] #reset della lista per costruire una nuova frase\n",
    "    return tweet_sentences"
   ]
  },
  {
   "cell_type": "code",
   "execution_count": 30,
   "id": "3edf582e",
   "metadata": {},
   "outputs": [],
   "source": [
    "#per ogni file nelle cartelle dei dataset invoca la funzione get_sentences_from_file e appende la lista restituita alla variabile dataset, restituendolo.\n",
    "def get_dataset_from_files(file_paths):   \n",
    "    #lista che conterrà la lista delle frasi in un file per ogni file del dataset\n",
    "    dataset = []\n",
    "    #per ogni file path nella lista dei file_paths \n",
    "    for file_path in file_paths:\n",
    "        #invoca la funzione definita in precedenza\n",
    "        sentences_infile = get_sentences_from_file(file_path)\n",
    "        #appende sentences_infile restituito (quindi la lista delle frasi contenute in un singolo file)\n",
    "        dataset.append(sentences_infile)        \n",
    "    #restituisce una lista che contiene la lista delle frasi contenute nei file di un dataset\n",
    "    return dataset"
   ]
  },
  {
   "cell_type": "code",
   "execution_count": 31,
   "id": "7a52736b",
   "metadata": {},
   "outputs": [
    {
     "name": "stdout",
     "output_type": "stream",
     "text": [
      "Documenti training set: 3977\n",
      "Documenti test set: 872\n"
     ]
    }
   ],
   "source": [
    "#invoco la funzione definita precedentemente sulle liste contenenti i percorsi dei file di train e test\n",
    "train_dataset = get_dataset_from_files(train_files)\n",
    "test_dataset = get_dataset_from_files(test_files)\n",
    "\n",
    "#controllo se il numero di file corrispondono all'effettiva dimensione dei set\n",
    "print('Documenti training set:', len(train_dataset))\n",
    "print('Documenti test set:', len(test_dataset))"
   ]
  },
  {
   "cell_type": "code",
   "execution_count": 32,
   "id": "0e7733c3",
   "metadata": {},
   "outputs": [
    {
     "data": {
      "text/plain": [
       "[[{'word': 'Milano', 'lemma': 'Milano', 'pos': 'PROPN'},\n",
       "  {'word': ',', 'lemma': ',', 'pos': 'PUNCT'},\n",
       "  {'word': 'pullman', 'lemma': 'pullman', 'pos': 'NOUN'},\n",
       "  {'word': 'sperona', 'lemma': 'sperono', 'pos': 'VERB'},\n",
       "  {'word': 'tram', 'lemma': 'tram', 'pos': 'X'},\n",
       "  {'word': ':', 'lemma': ':', 'pos': 'PUNCT'},\n",
       "  {'word': 'immigrati', 'lemma': 'immigrato', 'pos': 'NOUN'},\n",
       "  {'word': 'nordafricani', 'lemma': 'nordafricano', 'pos': 'ADJ'},\n",
       "  {'word': 'sciacalli', 'lemma': 'sciacallo', 'pos': 'ADJ'},\n",
       "  {'word': 'tra', 'lemma': 'tra', 'pos': 'ADP'},\n",
       "  {'word': 'i', 'lemma': 'il', 'pos': 'DET'},\n",
       "  {'word': 'feriti', 'lemma': 'ferito', 'pos': 'NOUN'},\n",
       "  {'word': 'https://t.co/vBFCu0pzKM',\n",
       "   'lemma': 'https://t.co/vBFCu0pzKM',\n",
       "   'pos': 'PROPN'},\n",
       "  {'word': 'https://t.co/XTRim7NQJZ',\n",
       "   'lemma': 'https://t.co/XTRim7NQJZ',\n",
       "   'pos': 'PROPN'}]]"
      ]
     },
     "execution_count": 32,
     "metadata": {},
     "output_type": "execute_result"
    }
   ],
   "source": [
    "#stampa le prime 5 frasi del primo elemento in train_dataset\n",
    "train_dataset[0][:5]"
   ]
  },
  {
   "cell_type": "markdown",
   "id": "dfdbfdbb-d54b-4f3d-8540-168c0cc01ee8",
   "metadata": {},
   "source": [
    "### Estrazione features"
   ]
  },
  {
   "cell_type": "code",
   "execution_count": 33,
   "id": "a83ea1ed",
   "metadata": {},
   "outputs": [
    {
     "data": {
      "text/plain": [
       "[{'word': 'L’', 'lemma': 'il', 'pos': 'DET'},\n",
       " {'word': 'accordo', 'lemma': 'accordo', 'pos': 'NOUN'},\n",
       " {'word': 'fra', 'lemma': 'fra', 'pos': 'ADP'},\n",
       " {'word': 'Italia', 'lemma': 'Italia', 'pos': 'PROPN'},\n",
       " {'word': 'e', 'lemma': 'e', 'pos': 'CCONJ'},\n",
       " {'word': 'Libia', 'lemma': 'Libia', 'pos': 'PROPN'},\n",
       " {'word': 'su', 'lemma': 'su', 'pos': 'ADP'},\n",
       " {'word': 'i', 'lemma': 'il', 'pos': 'DET'},\n",
       " {'word': 'migranti', 'lemma': 'migrante', 'pos': 'NOUN'},\n",
       " {'word': 'https://t.co/yfJBXqbpWP',\n",
       "  'lemma': 'https://t.co/yfJBXqbpWP',\n",
       "  'pos': 'PROPN'}]"
      ]
     },
     "execution_count": 33,
     "metadata": {},
     "output_type": "execute_result"
    }
   ],
   "source": [
    "sentence = train_dataset[10][0]\n",
    "sentence"
   ]
  },
  {
   "cell_type": "code",
   "execution_count": 34,
   "id": "33c53bc6-b685-47d9-a0e3-8a9e9413bcd2",
   "metadata": {},
   "outputs": [],
   "source": [
    "def extract_word_ngrams(word_ngrams, sentence, el, n):\n",
    "    #creiamo una lista con tutte le parole\n",
    "    all_words = []\n",
    "    #per ciascun token nella lista sentence\n",
    "    for token in sentence:\n",
    "        #aggiungiamo la parola corrispondente all'elemento specificato (el) alla lista all_words\n",
    "        all_words.append(token[el])   \n",
    "    #scorriamo la lista delle parole e estraiamo gli n-grammi\n",
    "    for i in range(0, len(all_words) - n + 1):\n",
    "        ngram_words = all_words[i: i + n]\n",
    "        ngram = f'{el.upper()}_{n}_' + '_'.join(ngram_words)\n",
    "        #se l'n-gramma non è presente nel dizionario word_ngrams\n",
    "        if ngram not in word_ngrams:\n",
    "            #lo aggiungiamo al dizionario con conteggio 1\n",
    "            word_ngrams[ngram] = 1\n",
    "        else:\n",
    "            #altrimenti incrementiamo il conteggio\n",
    "            word_ngrams[ngram] += 1  \n",
    "    return word_ngrams"
   ]
  },
  {
   "cell_type": "code",
   "execution_count": 35,
   "id": "98a6488c",
   "metadata": {},
   "outputs": [
    {
     "data": {
      "text/plain": [
       "{'WORD_3_L’_accordo_fra': 1,\n",
       " 'WORD_3_accordo_fra_Italia': 1,\n",
       " 'WORD_3_fra_Italia_e': 1,\n",
       " 'WORD_3_Italia_e_Libia': 1,\n",
       " 'WORD_3_e_Libia_su': 1,\n",
       " 'WORD_3_Libia_su_i': 1,\n",
       " 'WORD_3_su_i_migranti': 1,\n",
       " 'WORD_3_i_migranti_https://t.co/yfJBXqbpWP': 1}"
      ]
     },
     "execution_count": 35,
     "metadata": {},
     "output_type": "execute_result"
    }
   ],
   "source": [
    "#estrae gli n-grammi di parole dalla frase\n",
    "#utilizzando come elemento le parole stesse e considerando n-grammi di lunghezza 3\n",
    "extract_word_ngrams(dict(), sentence, 'word', 3)"
   ]
  },
  {
   "cell_type": "code",
   "execution_count": 36,
   "id": "1dbb1ea0-5ca4-40b3-946e-6ccecc935002",
   "metadata": {},
   "outputs": [],
   "source": [
    "def extract_char_ngrams(char_ngrams, sentence, n):   \n",
    "    #creiamo una lista con tutte le parole\n",
    "    all_words = []\n",
    "    for token in sentence:\n",
    "        all_words.append(token['word']) #estrae la parola da ogni token\n",
    "    #crea una stringa che contenga tutte le parole separate da spazi (per scorrere i caratteri)\n",
    "    all_words = ' '.join(all_words)   \n",
    "    #scorriamo la stringa ed estraiamo gli n-grammi di caratteri\n",
    "    for i in range(0, len(all_words) - n + 1):\n",
    "        ngram_chars = all_words[i:i + n]\n",
    "        ngram = f'CHAR_{n}_' + ngram_chars\n",
    "        # print(f'{i}: {ngram_chars} -> {ngram}')\n",
    "        #se l'n-gramma non è presente nel dizionario char_ngrams\n",
    "        if ngram not in char_ngrams:\n",
    "            char_ngrams[ngram] = 1 #lo aggiungiamo al dizionario con conteggio 1\n",
    "        else:\n",
    "            char_ngrams[ngram] += 1 #altrimenti incrementiamo il conteggio    \n",
    "    return char_ngrams"
   ]
  },
  {
   "cell_type": "code",
   "execution_count": 37,
   "id": "fc92fb16",
   "metadata": {},
   "outputs": [],
   "source": [
    "#calcola gli n-grammi di caratteri dalle parole nella frase\n",
    "#restituisce un dizionario contenente il conteggio di ciascun n-gramma\n",
    "extract_char_ngrams(dict(), sentence, 2);"
   ]
  },
  {
   "cell_type": "code",
   "execution_count": 38,
   "id": "c2d1146f-bb0b-487d-bed5-b835750386b3",
   "metadata": {},
   "outputs": [],
   "source": [
    "def count_document_words(document):\n",
    "    num_words = 0 #variabile per memorizzare il numero totale di parole\n",
    "    for sentence in document: #itera le frasi nel documento\n",
    "        #aggiunge il numero di parole nella frase corrente al conteggio totale\n",
    "        num_words = num_words + len(sentence)\n",
    "    return num_words #restituisce il numero totale di parole nel documento\n",
    "\n",
    "def count_document_chars(document):\n",
    "    num_chars = 0 #variabile per memorizzare il numero totale di caratteri\n",
    "    for sentence in document: #itera le frasi nel documento\n",
    "        for token in sentence: #itera i tokens nella frase corrente\n",
    "            #aggiunge la lunghezza della parola corrente al conteggio totale dei caratteri\n",
    "            num_chars = num_chars + len(token['word'])\n",
    "        #aggiunge la lunghezza della frase corrente al conteggio totale dei caratteri\n",
    "        num_chars = num_chars + len(sentence) - 1  #contiamo anche gli spazi\n",
    "    return num_chars #restituisce il numero totale di caratteri nel documento\n",
    "\n",
    "def normalize_ngrams(ngrams_dict, doc_len):\n",
    "    for ngram in ngrams_dict: #itera gli n-grammi nel dizionario\n",
    "        #normalizza il conteggio dell'n-gramma dividendo per la lunghezza del documento\n",
    "        ngrams_dict[ngram] = ngrams_dict[ngram]/float(doc_len)"
   ]
  },
  {
   "cell_type": "code",
   "execution_count": 39,
   "id": "d00a347c-fbbd-4a77-b476-2e543adc3f08",
   "metadata": {},
   "outputs": [],
   "source": [
    "#Estrazione features degli n-grammi di parole e caratteri da un dataset di documenti\n",
    "def extract_features_1(dataset):\n",
    "    dataset_features = [] #lista per memorizzare le features di ciascun documento nel dataset\n",
    "    \n",
    "    #per ogni tweet nel dataset crea 4 dizionari\n",
    "    for document in dataset:\n",
    "        word_unigrams = dict() #dizionario per memorizzare i conteggi degli unigrammi di parole\n",
    "        word_bigrams = dict() #dizionario per memorizzare i conteggi dei bigrammi di parole\n",
    "        char_unigrams = dict() #dizionario per memorizzare i conteggi degli unigrammi di caratteri\n",
    "        char_bigrams = dict() #dizionario per memorizzare i conteggi dei bigrammi di caratteri\n",
    "        \n",
    "        #per ciascuna frase in un tweet\n",
    "        for sentence in document:\n",
    "            #estrae gli unigrammi di parole dalla frase e aggiorna il dizionario word_unigrams\n",
    "            extract_word_ngrams(word_unigrams, sentence, 'word', 1)\n",
    "            #estrae i bigrammi di parole dalla frase e aggiorna il dizionario word_bigrams\n",
    "            extract_word_ngrams(word_bigrams, sentence, 'word', 2)\n",
    "            #estrae gli unigrammi di caratteri dalla frase e aggiorna il dizionario char_unigrams\n",
    "            extract_char_ngrams(char_unigrams, sentence, 1)\n",
    "            #estrae i bigrammi di caratteri dalla frase e aggiorna il dizionario char_bigrams\n",
    "            extract_char_ngrams(char_bigrams, sentence, 2)\n",
    "            \n",
    "            #conta il numero di caratteri e parole per ogni tweet\n",
    "            num_words = count_document_words(document)\n",
    "            num_chars = count_document_chars(document)\n",
    "        \n",
    "            #normalizza gli ngrammi estratti in precedenza con il numero totale di caratteri e parole a seconda del caso\n",
    "            normalize_ngrams(word_unigrams, num_words)\n",
    "            normalize_ngrams(word_bigrams, num_words)\n",
    "            normalize_ngrams(char_unigrams, num_chars)\n",
    "            normalize_ngrams(char_bigrams, num_chars)\n",
    "        \n",
    "        #unisce tutti i dizionari di n-grammi per ottenere le features del tweet\n",
    "        tweet_features = word_unigrams | word_bigrams | char_unigrams | char_bigrams\n",
    "        \n",
    "        #crea un dizionario di features per il tweet corrente, unendo tutti gli n-grammi\n",
    "        tweet_features = dict()\n",
    "        for ngrams_dict in [word_unigrams, word_bigrams, char_unigrams, char_bigrams]:\n",
    "            for ngram in ngrams_dict:\n",
    "                tweet_features[ngram] = ngrams_dict[ngram]\n",
    "        \n",
    "        #aggiunge le features del tweet alla lista delle features del dataset\n",
    "        dataset_features.append(tweet_features)\n",
    "    return dataset_features"
   ]
  },
  {
   "cell_type": "code",
   "execution_count": 40,
   "id": "cf98ebff-11ea-43b7-8a1b-19ec8a810048",
   "metadata": {},
   "outputs": [],
   "source": [
    "def extract_features_2(dataset):\n",
    "    \n",
    "    dataset_features = []\n",
    "    #per ogni tweet del dataset crea 6 nuovi dizionari\n",
    "    for document in dataset:\n",
    "        word_trigrams = dict()\n",
    "        word_bigrams = dict()\n",
    "        char_trigrams = dict()\n",
    "        char_bigrams = dict()\n",
    "        pos_bigrams = dict()\n",
    "        pos_trigrams = dict()\n",
    "        \n",
    "        #per ogni frase in un tweet vengono popolati i dizionari \n",
    "        for sentence in document: \n",
    "            extract_word_ngrams(word_bigrams, sentence, 'word', 2)\n",
    "            extract_word_ngrams(word_trigrams, sentence, 'word', 3)\n",
    "            extract_char_ngrams(char_bigrams, sentence, 2)\n",
    "            extract_char_ngrams(char_trigrams, sentence, 3)\n",
    "            extract_word_ngrams(pos_bigrams, sentence, 'pos', 2)\n",
    "            extract_word_ngrams(pos_bigrams, sentence, 'pos', 3)\n",
    "            \n",
    "            #conta il numero di caratteri e parole per ogni tweet\n",
    "            num_words = count_document_words(document)\n",
    "            num_chars = count_document_chars(document)\n",
    "            \n",
    "            #normalizzazione degli n-grammi estratti in precedenza\n",
    "            normalize_ngrams(word_trigrams, num_words)\n",
    "            normalize_ngrams(word_bigrams, num_words)\n",
    "            normalize_ngrams(char_trigrams, num_chars)\n",
    "            normalize_ngrams(char_bigrams, num_chars)\n",
    "            normalize_ngrams(pos_bigrams, num_words)\n",
    "            normalize_ngrams(pos_trigrams, num_words)         \n",
    "        \n",
    "        #unisce tutti i dizionari di n-grammi per ottenere le features del tweet\n",
    "        tweet_features = dict()\n",
    "        for ngrams_dict in [word_trigrams, word_bigrams, char_trigrams, char_bigrams, pos_bigrams, pos_trigrams]:\n",
    "            for ngram in ngrams_dict:\n",
    "                tweet_features[ngram] = ngrams_dict[ngram]\n",
    "\n",
    "        dataset_features.append(tweet_features)\n",
    "    return dataset_features"
   ]
  },
  {
   "cell_type": "code",
   "execution_count": 41,
   "id": "87ef4fcb-ff72-48fc-92ed-6227adc48ff6",
   "metadata": {},
   "outputs": [],
   "source": [
    "def extract_features_3(dataset):\n",
    "    \n",
    "    dataset_features = []\n",
    "    for document in dataset:\n",
    "        word_unigrams = dict()\n",
    "        word_bigrams = dict()\n",
    "        pos_bigrams = dict()\n",
    "        pos_unigrams = dict()\n",
    "         \n",
    "        for sentence in document:\n",
    "            extract_word_ngrams(word_bigrams, sentence, 'word', 2)\n",
    "            extract_word_ngrams(word_unigrams, sentence, 'word', 1)\n",
    "            extract_word_ngrams(pos_bigrams, sentence, 'pos', 2)\n",
    "            extract_word_ngrams(pos_unigrams, sentence, 'pos', 1)\n",
    "      \n",
    "            num_words = count_document_words(document)\n",
    "            \n",
    "            normalize_ngrams(word_bigrams, num_words)\n",
    "            normalize_ngrams(word_unigrams, num_words)\n",
    "            normalize_ngrams(pos_bigrams, num_words)\n",
    "            normalize_ngrams(pos_unigrams, num_words)\n",
    "        \n",
    "        tweet_features = dict()\n",
    "        for ngrams_dict in [word_bigrams, word_unigrams, pos_bigrams, pos_unigrams]:\n",
    "            for ngram in ngrams_dict:\n",
    "                tweet_features[ngram] = ngrams_dict[ngram]\n",
    "\n",
    "        dataset_features.append(tweet_features)\n",
    "    return dataset_features"
   ]
  },
  {
   "cell_type": "code",
   "execution_count": 42,
   "id": "5e6d6708-7ccf-46da-a030-254ca6fefd65",
   "metadata": {},
   "outputs": [],
   "source": [
    "#estrazione delle features dal training set\n",
    "#train_features conterrà la lista delle features estratte per ciascun documento nel training set\n",
    "train_features_1 = extract_features_1(train_dataset)\n",
    "test_features_1 = extract_features_1(test_dataset)\n",
    "\n",
    "train_features_2 = extract_features_2(train_dataset)\n",
    "test_features_2 = extract_features_2(test_dataset)\n",
    "\n",
    "train_features_3 = extract_features_3(train_dataset)\n",
    "test_features_3 = extract_features_3(test_dataset)"
   ]
  },
  {
   "cell_type": "code",
   "execution_count": 43,
   "id": "a5c4ea1d",
   "metadata": {},
   "outputs": [
    {
     "name": "stdout",
     "output_type": "stream",
     "text": [
      "Documenti training set: 3977 , 3977 , 3977\n",
      "Documenti test set: 872 , 872 , 872\n"
     ]
    }
   ],
   "source": [
    "print('Documenti training set:', len(train_features_1),\",\", len(train_features_2),\",\", len(train_features_3))\n",
    "print('Documenti test set:', len(test_features_1),\",\", len(test_features_2),\",\", len(test_features_3))"
   ]
  },
  {
   "cell_type": "code",
   "execution_count": 44,
   "id": "29787faa-7dba-427c-9aa7-f784e9a7fa5d",
   "metadata": {},
   "outputs": [],
   "source": [
    "def get_num_features(dataset):\n",
    "    #insieme vuoto che contenerrà tutte le features uniche\n",
    "    all_features = set()\n",
    "    #scorriamo ogni dizionario di features nel dataset\n",
    "    for tweet_dict in dataset:\n",
    "        #aggiungiamo tutte le chiavi (features) al nostro insieme\n",
    "        all_features.update(list(tweet_dict.keys()))\n",
    "    #la lunghezza dell'insieme rappresenta il numero di features uniche nel dataset\n",
    "    return len(all_features)"
   ]
  },
  {
   "cell_type": "code",
   "execution_count": 45,
   "id": "ce190aeb",
   "metadata": {},
   "outputs": [
    {
     "name": "stdout",
     "output_type": "stream",
     "text": [
      "Numero features caso 1: 69601\n",
      "Numero features caso 1: 21428\n",
      "Numero features caso 2: 139929\n",
      "Numero features caso 2: 41822\n",
      "Numero features caso 3: 64656\n",
      "Numero features caso 3: 18117\n"
     ]
    }
   ],
   "source": [
    "#numero di features presenti nel dataset di addestramento \n",
    "print(f'Numero features caso 1: {get_num_features(train_features_1)}')\n",
    "print(f'Numero features caso 1: {get_num_features(test_features_1)}')\n",
    "\n",
    "print(f'Numero features caso 2: {get_num_features(train_features_2)}')\n",
    "print(f'Numero features caso 2: {get_num_features(test_features_2)}')\n",
    "\n",
    "print(f'Numero features caso 3: {get_num_features(train_features_3)}')\n",
    "print(f'Numero features caso 3: {get_num_features(test_features_3)}')"
   ]
  },
  {
   "cell_type": "markdown",
   "id": "9df9c625-e26e-4823-b972-712f899562a0",
   "metadata": {},
   "source": [
    "### Filtro delle features poco frequenti"
   ]
  },
  {
   "cell_type": "code",
   "execution_count": 46,
   "id": "ff3bd6ac-3886-4a68-9c11-30c1385e2de2",
   "metadata": {},
   "outputs": [],
   "source": [
    "def filter_features(train_features, min_occurrences):\n",
    "    #dizionario per contare quante volte una feature compare in diversi tweet\n",
    "    features_counter = dict()\n",
    "    #per ogni dizionario di features in train_features\n",
    "    for tweet_dict in train_features:\n",
    "        #per ogni feature nel dizionario\n",
    "        for feature in tweet_dict:\n",
    "            if feature in features_counter: #se la feature è già presente nel dizionario features_counter\n",
    "                features_counter[feature] += 1 #incrementiamo il contatore di quella featur di 1\n",
    "            else: #se non è presente\n",
    "                features_counter[feature] = 1 #aggiungiamo la feature al dizionario con valore 1\n",
    "    \n",
    "    #per ogni dizionario di features in train_features\n",
    "    for tweet_dict in train_features:\n",
    "        #creiamo la lista di features del tweet corrente\n",
    "        tweet_features = list(tweet_dict.keys())\n",
    "        #per ogni feature nella lista tweet_features\n",
    "        for feature in tweet_features:\n",
    "            #se il contatore delle sue occorrenze è inferiore a min_occurrences\n",
    "            if features_counter[feature] < min_occurrences:\n",
    "                #la feature viene rimossa dal dizionario\n",
    "                tweet_dict.pop(feature)  \n",
    "    #restituisce il train_features con le features filtrate\n",
    "    return train_features"
   ]
  },
  {
   "cell_type": "code",
   "execution_count": 47,
   "id": "151c1f61-6add-4201-b26e-b6c9df2fe76b",
   "metadata": {},
   "outputs": [
    {
     "name": "stdout",
     "output_type": "stream",
     "text": [
      "Numero features del train set (Caso 1): 5233\n",
      "Numero features del test set (Caso 1): 1440\n",
      "Numero features del train set (Caso 2): 10290\n",
      "Numero features del test set (Caso 2): 4093\n",
      "Numero features del train set (Caso 3): 3062\n",
      "Numero features del test set (Caso 3): 649\n"
     ]
    }
   ],
   "source": [
    "#rimozione delle features che compaiono in meno di tot tweet\n",
    "#stampa del numero di features presenti nel dataset di addestramento dopo il filtro\n",
    "train_features_1 = filter_features(train_features_1, 5)\n",
    "print(f'Numero features del train set (Caso 1): {get_num_features(train_features_1)}')\n",
    "\n",
    "test_features_1 = filter_features(test_features_1, 5)\n",
    "print(f'Numero features del test set (Caso 1): {get_num_features(test_features_1)}')\n",
    "\n",
    "train_features_2 = filter_features(train_features_2, 5)\n",
    "print(f'Numero features del train set (Caso 2): {get_num_features(train_features_2)}')\n",
    "\n",
    "test_features_2 = filter_features(test_features_2, 5)\n",
    "print(f'Numero features del test set (Caso 2): {get_num_features(test_features_2)}')\n",
    "\n",
    "train_features_3 = filter_features(train_features_3, 5)\n",
    "print(f'Numero features del train set (Caso 3): {get_num_features(train_features_3)}')\n",
    "\n",
    "test_features_3 = filter_features(test_features_3, 5)\n",
    "print(f'Numero features del test set (Caso 3): {get_num_features(test_features_3)}')"
   ]
  },
  {
   "cell_type": "markdown",
   "id": "f1440631-7c7f-4136-a331-2e3a861642cc",
   "metadata": {},
   "source": [
    "### Classificazione"
   ]
  },
  {
   "cell_type": "code",
   "execution_count": 48,
   "id": "1ed60a22",
   "metadata": {},
   "outputs": [],
   "source": [
    "#converte la lista train_labels in un array NumPy\n",
    "y_train = np.asarray(train_labels)\n",
    "y_test = np.asarray(test_labels)"
   ]
  },
  {
   "cell_type": "code",
   "execution_count": 49,
   "id": "1a8faa37-3bbd-4dfc-9338-f83921868ace",
   "metadata": {},
   "outputs": [],
   "source": [
    "def k5fold_classification(train_features, test_features, y_train, y_test, invocation1):\n",
    "    \n",
    "    print(f\" \\n Feature estratte a partire da {invocation1}. \\n\")\n",
    "    \n",
    "    #converto un elenco di dizionari in una rappresentazione vettoriale numerica tramite DictVectorizer\n",
    "    vectorizer = DictVectorizer()\n",
    "    #trasformare le features di addestramento in una rappresentazione vettoriale\n",
    "    X_train = vectorizer.fit_transform(train_features)\n",
    "    X_test = vectorizer.transform(test_features)\n",
    "\n",
    "    #normalizziamo ogni feature dividendo per il valore massimo assoluto presente in quella feature\n",
    "    scaler = MaxAbsScaler()\n",
    "    #trasformare le features di addestramento utilizzando lo scaler MaxAbs\n",
    "    X_train = scaler.fit_transform(X_train)\n",
    "    X_test = scaler.transform(X_test)\n",
    "\n",
    "    #estraiamo le feature tramite il metodo specifico del vectorizer\n",
    "    features_names = vectorizer.get_feature_names_out(X_train).tolist()\n",
    "    #salvo in un numpy array le classi del train set\n",
    "    y_train = np.asarray(y_train)\n",
    "\n",
    "    #definisco lo splitter con 5 split, una mescolanza dei dati pre split e con seed 42\n",
    "    splitter = KFold(n_splits=5, random_state=42, shuffle=True)\n",
    "    #effettuo lo split e salvo gli split in folds\n",
    "    folds = list(splitter.split(X_train))\n",
    "\n",
    "    #visualizzo tramite ciclo il numero di istanze di train e validation per ogni fold\n",
    "    for i in range(len(folds)):\n",
    "        print(\"Fold \",(i+1), len(folds[i][0]),\",\", len(folds[i][1]))\n",
    "        \n",
    "\n",
    "    print(\"\\n\")\n",
    "    #lista per memorizzare le predizioni e le classi reali su tutti i fold\n",
    "    all_y_true = []\n",
    "    all_y_pred = []\n",
    "\n",
    "    #per ciascun fold\n",
    "    for i in range(len(folds)):\n",
    "\n",
    "        #estraggo gli indici di train e validation (qui e di seguito definito test) per il fold corrente\n",
    "        train_ids = folds[i][0]\n",
    "        test_ids = folds[i][1]\n",
    "\n",
    "        #suddivido i dati in train e validation per il fold corrente tramite la localizzazione degli ID estratti in folds\n",
    "        fold_X_train = X_train[train_ids]\n",
    "        fold_y_train = y_train[train_ids]\n",
    "\n",
    "        fold_X_test = X_train[test_ids]\n",
    "        fold_y_test = y_train[test_ids]\n",
    "\n",
    "        #creo un classificatore LinearSVC\n",
    "        kfold_svc = LinearSVC(dual=False)\n",
    "        #addestro il classificatore sul set di train del fold corrente\n",
    "        kfold_svc.fit(fold_X_train, fold_y_train)\n",
    "        #eseguo le previsioni sul set di validation del fold corrente\n",
    "        fold_y_pred = kfold_svc.predict(fold_X_test)\n",
    "        #calcolo l'accuratezza del modello sul fold corrente\n",
    "        fold_accuracy = accuracy_score(fold_y_test, fold_y_pred)\n",
    "\n",
    "        #stampo l'accuratezza del fold corrente\n",
    "        print(f\"Accuracy su fold {i+1}: {fold_accuracy}\")\n",
    "\n",
    "        #aggiungo le previsioni e i valori reali delle classi del fold corrente alle liste complessive\n",
    "        all_y_true += fold_y_test.tolist()\n",
    "        all_y_pred += fold_y_pred.tolist()\n",
    "\n",
    "      \n",
    "    #Valutazione sul training set completo tramite classification report\n",
    "    print(\" \\n Valutazione sul training set: \\n\")\n",
    "    print(\"\\n\",classification_report(all_y_true, all_y_pred, zero_division=0))\n",
    "\n",
    "    #Valutazione sul test set completo tramite classification report\n",
    "    print(\" \\n Valutazione sul test set: \\n\")\n",
    "    test_predictions = kfold_svc.predict(X_test)\n",
    "    print(\"\\n\", classification_report(y_test, test_predictions, zero_division=0))\n",
    "\n",
    "    #Matrice di confusione sul test set\n",
    "    cm_test = confusion_matrix(y_test, test_predictions)\n",
    "    disp_test = ConfusionMatrixDisplay(cm_test)\n",
    "    disp_test.plot(xticks_rotation='vertical', cmap='Blues')\n",
    "    plt.title(f\"Matrice di Confusione - Test Set\")\n",
    "    plt.show()\n",
    "\n",
    "    print(\"--------------------------------------------------------------------------------------------------------------------\")"
   ]
  },
  {
   "cell_type": "code",
   "execution_count": 50,
   "id": "71ee12a8-0e55-4b88-b49a-6cf5bb7125c1",
   "metadata": {},
   "outputs": [
    {
     "name": "stdout",
     "output_type": "stream",
     "text": [
      " \n",
      " Feature estratte a partire da unigrammi e bigrammi di caratteri e parole. \n",
      "\n",
      "Fold  1 3181 , 796\n",
      "Fold  2 3181 , 796\n",
      "Fold  3 3182 , 795\n",
      "Fold  4 3182 , 795\n",
      "Fold  5 3182 , 795\n",
      "\n",
      "\n",
      "Accuracy su fold 1: 0.6419597989949749\n",
      "Accuracy su fold 2: 0.6520100502512562\n",
      "Accuracy su fold 3: 0.6591194968553459\n",
      "Accuracy su fold 4: 0.6616352201257861\n",
      "Accuracy su fold 5: 0.6792452830188679\n",
      " \n",
      " Valutazione sul training set: \n",
      "\n",
      "\n",
      "               precision    recall  f1-score   support\n",
      "\n",
      "           0       0.66      0.64      0.65      1954\n",
      "           1       0.66      0.68      0.67      2023\n",
      "\n",
      "    accuracy                           0.66      3977\n",
      "   macro avg       0.66      0.66      0.66      3977\n",
      "weighted avg       0.66      0.66      0.66      3977\n",
      "\n",
      " \n",
      " Valutazione sul test set: \n",
      "\n",
      "\n",
      "               precision    recall  f1-score   support\n",
      "\n",
      "           0       0.68      0.62      0.65       437\n",
      "           1       0.65      0.71      0.68       435\n",
      "\n",
      "    accuracy                           0.66       872\n",
      "   macro avg       0.66      0.66      0.66       872\n",
      "weighted avg       0.66      0.66      0.66       872\n",
      "\n"
     ]
    },
    {
     "data": {
      "image/png": "[encoded data removed]",
      "text/plain": [
       "<Figure size 640x480 with 2 Axes>"
      ]
     },
     "metadata": {},
     "output_type": "display_data"
    },
    {
     "name": "stdout",
     "output_type": "stream",
     "text": [
      "--------------------------------------------------------------------------------------------------------------------\n",
      " \n",
      " Feature estratte a partire da bigrammi e trigrammi di caratteri e parole. \n",
      "\n",
      "Fold  1 3181 , 796\n",
      "Fold  2 3181 , 796\n",
      "Fold  3 3182 , 795\n",
      "Fold  4 3182 , 795\n",
      "Fold  5 3182 , 795\n",
      "\n",
      "\n",
      "Accuracy su fold 1: 0.6595477386934674\n",
      "Accuracy su fold 2: 0.6582914572864321\n",
      "Accuracy su fold 3: 0.6616352201257861\n",
      "Accuracy su fold 4: 0.6716981132075471\n",
      "Accuracy su fold 5: 0.6767295597484276\n",
      " \n",
      " Valutazione sul training set: \n",
      "\n",
      "\n",
      "               precision    recall  f1-score   support\n",
      "\n",
      "           0       0.66      0.64      0.65      1954\n",
      "           1       0.67      0.69      0.68      2023\n",
      "\n",
      "    accuracy                           0.67      3977\n",
      "   macro avg       0.67      0.67      0.67      3977\n",
      "weighted avg       0.67      0.67      0.67      3977\n",
      "\n",
      " \n",
      " Valutazione sul test set: \n",
      "\n",
      "\n",
      "               precision    recall  f1-score   support\n",
      "\n",
      "           0       0.64      0.60      0.62       437\n",
      "           1       0.62      0.66      0.64       435\n",
      "\n",
      "    accuracy                           0.63       872\n",
      "   macro avg       0.63      0.63      0.63       872\n",
      "weighted avg       0.63      0.63      0.63       872\n",
      "\n"
     ]
    },
    {
     "data": {
      "image/png": "[encoded data removed]",
      "text/plain": [
       "<Figure size 640x480 with 2 Axes>"
      ]
     },
     "metadata": {},
     "output_type": "display_data"
    },
    {
     "name": "stdout",
     "output_type": "stream",
     "text": [
      "--------------------------------------------------------------------------------------------------------------------\n",
      " \n",
      " Feature estratte a partire da unigrammi e trigrammi di part of speech e parole. \n",
      "\n",
      "Fold  1 3181 , 796\n",
      "Fold  2 3181 , 796\n",
      "Fold  3 3182 , 795\n",
      "Fold  4 3182 , 795\n",
      "Fold  5 3182 , 795\n",
      "\n",
      "\n",
      "Accuracy su fold 1: 0.635678391959799\n",
      "Accuracy su fold 2: 0.6695979899497487\n",
      "Accuracy su fold 3: 0.6490566037735849\n",
      "Accuracy su fold 4: 0.6767295597484276\n",
      "Accuracy su fold 5: 0.6742138364779874\n",
      " \n",
      " Valutazione sul training set: \n",
      "\n",
      "\n",
      "               precision    recall  f1-score   support\n",
      "\n",
      "           0       0.67      0.61      0.64      1954\n",
      "           1       0.65      0.71      0.68      2023\n",
      "\n",
      "    accuracy                           0.66      3977\n",
      "   macro avg       0.66      0.66      0.66      3977\n",
      "weighted avg       0.66      0.66      0.66      3977\n",
      "\n",
      " \n",
      " Valutazione sul test set: \n",
      "\n",
      "\n",
      "               precision    recall  f1-score   support\n",
      "\n",
      "           0       0.68      0.55      0.61       437\n",
      "           1       0.62      0.74      0.67       435\n",
      "\n",
      "    accuracy                           0.64       872\n",
      "   macro avg       0.65      0.64      0.64       872\n",
      "weighted avg       0.65      0.64      0.64       872\n",
      "\n"
     ]
    },
    {
     "data": {
      "image/png": "[encoded data removed]",
      "text/plain": [
       "<Figure size 640x480 with 2 Axes>"
      ]
     },
     "metadata": {},
     "output_type": "display_data"
    },
    {
     "name": "stdout",
     "output_type": "stream",
     "text": [
      "--------------------------------------------------------------------------------------------------------------------\n"
     ]
    }
   ],
   "source": [
    "invocation_1 = \"unigrammi e bigrammi di caratteri e parole\";\n",
    "invocation_2 = \"bigrammi e trigrammi di caratteri e parole\";\n",
    "invocation_3 = \"unigrammi e trigrammi di part of speech e parole\";\n",
    "\n",
    "# Classificazione sul dataset le cui feature consistono in bigrammi e unigrammi di caratteri e parole \n",
    "k5fold_classification(train_features_1, test_features_1, y_train, y_test, invocation_1)\n",
    "# Classificazione sul dataset le cui feature consistono in bigrammi e trigrammi di caratteri e parole \n",
    "k5fold_classification(train_features_2, test_features_2, y_train, y_test, invocation_2) \n",
    "# Classificazione sul dataset le cui feature consistono in unigrammi e bigrammi di pos e parole \n",
    "k5fold_classification(train_features_3, test_features_3, y_train, y_test, invocation_3) "
   ]
  },
  {
   "cell_type": "markdown",
   "id": "d7b9eba6",
   "metadata": {},
   "source": [
    "## Terza analisi\n",
    "Sviluppare un classificatore basato su SVM lineari che prende in input una rappresentazione del testo costruita attraverso l’uso dei word embedding (http://www.italianlp.it/resources/italian-word-embeddings/). Riportare i seguenti risultati:\n",
    "- testare diverse rappresentazioni del testo che variano rispetto al modo di combinare gli embedding delle singole parole e/o rispetto alle categorie grammaticali delle parole prese in considerazione. Valutare i diversi sistemi con un processo di 5-fold cross validation condotto sul training set.\n",
    "- valutazione sul test set ufficiale del miglior sistema rispetto ai risultati ottenuti con il processo di 5-fold cross validation del punto sopra ."
   ]
  },
  {
   "cell_type": "markdown",
   "id": "88723afe",
   "metadata": {},
   "source": [
    "### Caricamento embeddings"
   ]
  },
  {
   "cell_type": "code",
   "execution_count": 51,
   "id": "b637c8ea-8e64-4676-af3b-25b41a83c2a2",
   "metadata": {},
   "outputs": [],
   "source": [
    "#impostiamo le dimensioni degli embeddings a 32\n",
    "embeddings_dim = 32\n",
    "#generiamo il percorso del file degli embeddings utilizzando le dimensioni degli embeddings\n",
    "embeddings_path = f'twitter{embeddings_dim}.txt'"
   ]
  },
  {
   "cell_type": "code",
   "execution_count": 52,
   "id": "f376b02c",
   "metadata": {},
   "outputs": [],
   "source": [
    "def load_word_embeddings(src_path):\n",
    "    embeddings = dict()\n",
    "    #ogni riga nel file\n",
    "    for line in open(embeddings_path, 'r'):\n",
    "        #viene suddivisa utilizzando il delimitatore \"\\t\" per ottenere la parola e le componenti dell'embedding\n",
    "        line = line.strip().split('\\t')\n",
    "        #la parola viene assegnata alla variabile word\n",
    "        word = line[0]\n",
    "        embedding = line[1:]\n",
    "        #convertiamo le componenti dell'embedding in float\n",
    "        embedding = [float(comp) for comp in embedding]\n",
    "        #trasformiamo la lista delle componenti in un vettore di numpy\n",
    "        embeddings[word] = np.asarray(embedding)\n",
    "    return embeddings"
   ]
  },
  {
   "cell_type": "code",
   "execution_count": 53,
   "id": "82663d51",
   "metadata": {},
   "outputs": [],
   "source": [
    "#embeddings conterrà il dizionario degli embeddings delle parole caricati dal file\n",
    "embeddings = load_word_embeddings(embeddings_path)"
   ]
  },
  {
   "cell_type": "markdown",
   "id": "df0fed08",
   "metadata": {},
   "source": [
    "## Caricamento dataset"
   ]
  },
  {
   "cell_type": "code",
   "execution_count": 54,
   "id": "96474995",
   "metadata": {},
   "outputs": [],
   "source": [
    "#percorso della directory in cui si trovano le annotazioni linguistiche dei file\n",
    "conllu_dir = 'linguistic annotation of txtfiles'"
   ]
  },
  {
   "cell_type": "code",
   "execution_count": 55,
   "id": "a08975e6",
   "metadata": {},
   "outputs": [
    {
     "name": "stdout",
     "output_type": "stream",
     "text": [
      "Documenti training set: 3977\n",
      "Documenti test set: 872\n"
     ]
    }
   ],
   "source": [
    "train_files = []\n",
    "test_files = []\n",
    "\n",
    "for file_name in os.listdir(conllu_dir):\n",
    "    file_path = os.path.join(conllu_dir, file_name)\n",
    "    if 'training' in file_name:\n",
    "        train_files.append(file_path)\n",
    "    elif 'test' in file_name:\n",
    "        test_files.append(file_path)\n",
    "\n",
    "print('Documenti training set:', len(train_files))\n",
    "print('Documenti test set:', len(test_files))"
   ]
  },
  {
   "cell_type": "markdown",
   "id": "85177cfb",
   "metadata": {},
   "source": [
    "## Normalizzazione"
   ]
  },
  {
   "cell_type": "code",
   "execution_count": 56,
   "id": "94df6939",
   "metadata": {},
   "outputs": [],
   "source": [
    "def get_digits(text):\n",
    "    try:\n",
    "        val = int(text) #converte il testo in un intero\n",
    "    except: #se la conversione fallisce\n",
    "        text = re.sub('\\d', '@Dg', text) #sostituiamo tutte le cifre con \"@Dg\"\n",
    "        return text\n",
    "    if val >= 0 and val < 2100: #se il valore è compreso tra 0 e 2099\n",
    "        return str(val) #restituiamo il numero come stringa\n",
    "    else:\n",
    "        return \"DIGLEN_\" + str(len(str(val)))"
   ]
  },
  {
   "cell_type": "code",
   "execution_count": 57,
   "id": "8df8e190",
   "metadata": {},
   "outputs": [],
   "source": [
    "def normalize_text(word):\n",
    "     #se il testo contiene \"http\" o un punto e una barra (possibile URL)\n",
    "    if \"http\" in word or (\".\" in word and \"/\" in word):\n",
    "        word = str(\"___URL___\") #sostituiamo la parola con \"URL\"\n",
    "        return word\n",
    "    #se la lunghezza della parola è maggiore di 26 caratteri\n",
    "    if len(word) > 26:\n",
    "        return \"__LONG-LONG__\" #restituiamo una stringa che indica una parola molto lunga\n",
    "    #otteniamo una versione normalizzata del testo numerico\n",
    "    new_word = get_digits(word)\n",
    "    if new_word != word: #se il testo numerico è diverso dal testo originale\n",
    "        word = new_word #aggiorniamo la parola con il testo numerico normalizzato\n",
    "    if word[0].isupper(): #se il primo carattere della parola è maiuscolo\n",
    "        word = word.capitalize() #trasformiamo la parola con iniziale maiuscola\n",
    "    else:\n",
    "        word = word.lower() #trasformiamo la parola in minuscolo\n",
    "    return word"
   ]
  },
  {
   "cell_type": "code",
   "execution_count": 58,
   "id": "bc3c3060",
   "metadata": {},
   "outputs": [],
   "source": [
    "def get_tokens_from_file(src_path):\n",
    "    tweet_tokens = [] #lista per memorizzare i token dell'utente\n",
    "    lines_to_skip = 0 #numero di righe da saltare dopo un token con indice composto\n",
    "    take_pos = False #indica che la prossima riga contiene la parte del discorso\n",
    "    for line in open(src_path, 'r'): #iteriamo su ciascuna riga del file\n",
    "        # print(f'\\nRiga: {line.strip()}')\n",
    "        if line[0].isdigit(): #se il primo carattere della riga è un numero\n",
    "            splitted_line = line.strip().split('\\t') #dividiamo la riga in base al carattere di tab\n",
    "            if '-' in splitted_line[0]: #se l'indice del token è composto\n",
    "                skip_ids = splitted_line[0].split('-') #otteniamo gli indici da saltare\n",
    "                lines_to_skip = int(skip_ids[1]) - int(skip_ids[0]) + 1 #calcoliamo il numero di righe da saltare\n",
    "                take_pos = True #booleano che indica che dobbiamo prendere la pos della prossima parola\n",
    "                word = normalize_text(splitted_line[1]) #normalizziamo il testo del token\n",
    "                pos = splitted_line[3] #otteniamo la parte del discorso\n",
    "                token = {\n",
    "                    'word': word,\n",
    "                    'pos': pos\n",
    "                }\n",
    "                tweet_tokens.append(token) #aggiungiamo il token alla lista dei token del tweet\n",
    "            else: #se l'indice del token non è composto\n",
    "                if lines_to_skip == 0: #se non ci sono righe da saltare    \n",
    "                    word = normalize_text(splitted_line[1]) #normalizziamo il testo del token\n",
    "                    pos = splitted_line[3] #otteniamo la parte del discorso\n",
    "                    token = {\n",
    "                        'word': word,\n",
    "                        'pos': pos\n",
    "                    }\n",
    "                    tweet_tokens.append(token) #aggiungiamo il token alla lista dei token del tweet\n",
    "                if take_pos:\n",
    "                    pos = splitted_line[3]\n",
    "                    tweet_tokens[-1]['pos'] = pos #aggiorniamo la parte del discorso del token precedente\n",
    "                    take_pos = False\n",
    "                lines_to_skip = max(0, lines_to_skip-1) #riduciamo il numero di righe da saltare \n",
    "    return tweet_tokens"
   ]
  },
  {
   "cell_type": "code",
   "execution_count": 59,
   "id": "f1ff9061",
   "metadata": {},
   "outputs": [],
   "source": [
    "#liste per memorizzare i dataset di train e test\n",
    "train_dataset = []\n",
    "test_dataset = []\n",
    "\n",
    "def create_df(df_of_paths, final_df):\n",
    "    \n",
    "    #itera sui percorsi dei tweet nel dataset\n",
    "    for tweet_path in df_of_paths:\n",
    "        #ottiene i token dal file del tweet\n",
    "        tweet_sentences = get_tokens_from_file(tweet_path)\n",
    "        #aggiunge i token alla lista finale dei dataset\n",
    "        final_df.append(tweet_sentences)\n",
    "\n",
    "#crea il dataset di train e test\n",
    "create_df(train_files, train_dataset)\n",
    "create_df(test_files, test_dataset)"
   ]
  },
  {
   "cell_type": "code",
   "execution_count": 60,
   "id": "abc5f511",
   "metadata": {},
   "outputs": [
    {
     "name": "stdout",
     "output_type": "stream",
     "text": [
      "Documenti training set: 3977\n",
      "Documenti test set: 872\n"
     ]
    }
   ],
   "source": [
    "#controllo se il numero di file corrispondono all'effettiva dimensione dei set\n",
    "print('Documenti training set:', len(train_dataset))\n",
    "print('Documenti test set:', len(test_dataset))"
   ]
  },
  {
   "cell_type": "code",
   "execution_count": 61,
   "id": "e7f0bd8a",
   "metadata": {},
   "outputs": [
    {
     "name": "stdout",
     "output_type": "stream",
     "text": [
      "\"Tokens\" presenti nel primo tweet del train set: \n",
      " [{'word': 'Milano', 'pos': 'PROPN'}, {'word': ',', 'pos': 'PUNCT'}, {'word': 'pullman', 'pos': 'NOUN'}, {'word': 'sperona', 'pos': 'VERB'}, {'word': 'tram', 'pos': 'X'}, {'word': ':', 'pos': 'PUNCT'}, {'word': 'immigrati', 'pos': 'NOUN'}, {'word': 'nordafricani', 'pos': 'ADJ'}, {'word': 'sciacalli', 'pos': 'ADJ'}, {'word': 'tra', 'pos': 'ADP'}, {'word': 'i', 'pos': 'DET'}, {'word': 'feriti', 'pos': 'NOUN'}, {'word': '___URL___', 'pos': 'PROPN'}, {'word': '___URL___', 'pos': 'PROPN'}]\n"
     ]
    }
   ],
   "source": [
    "print(\"\\\"Tokens\\\" presenti nel primo tweet del train set: \\n\", train_dataset[0])"
   ]
  },
  {
   "cell_type": "markdown",
   "id": "0c0d090c",
   "metadata": {},
   "source": [
    "## Estrazione features"
   ]
  },
  {
   "cell_type": "markdown",
   "id": "c16e91c8",
   "metadata": {},
   "source": [
    "Questa funzione calcola la media degli embeddings di un tweet. Prende in input una matrice di embeddings tweet_embeddings, dove ogni riga rappresenta un embedding di un token nel tweet. La funzione esegue la somma degli embeddings lungo l'asse 0, cioè somma gli embeddings elemento per elemento. Successivamente, calcola la media dividendo la somma per il numero di embeddings nel vettore."
   ]
  },
  {
   "cell_type": "code",
   "execution_count": 62,
   "id": "cc0a40e3",
   "metadata": {},
   "outputs": [],
   "source": [
    "#calcola la media degli embedding dei tweet\n",
    "def compute_embeddings_mean(tweet_embeddings):\n",
    "    #somma gli embedding dei tweet\n",
    "    sum_array = np.sum(tweet_embeddings, axis=0)\n",
    "    #divide la somma per il numero di embedding dei tweet per ottenere la media\n",
    "    mean_array = np.divide(sum_array, len(tweet_embeddings))\n",
    "    return mean_array"
   ]
  },
  {
   "cell_type": "markdown",
   "id": "6a399626",
   "metadata": {},
   "source": [
    "### Combinazione 1: media di tutti gli embeddings dei tweet "
   ]
  },
  {
   "cell_type": "code",
   "execution_count": 63,
   "id": "4eb5c148",
   "metadata": {},
   "outputs": [],
   "source": [
    "#Funzione che calcola la media di tutti i word embeddings di un tweet\n",
    "def compute_all_embeddings_mean(tweet_tokens):\n",
    "    #lista che conterrà gli embeddings dei token del tweet\n",
    "    tweet_embeddings = []\n",
    "    #per ciascun token del tweet\n",
    "    for token in tweet_tokens:\n",
    "        #estrae la parola\n",
    "        word = token['word']\n",
    "        #se questa è presente (ha un embedding associato)\n",
    "        if word in embeddings:\n",
    "            #recupera il corrispondente embedding  e lo aggiunge alla lista\n",
    "            tweet_embeddings.append(embeddings[word])\n",
    "    #se la lista è vuota significa che nessuna delle parole del tweet ha un embedding associato\n",
    "    if len(tweet_embeddings) == 0:\n",
    "        #quindi viene creato un embedding di dimensione embeddings_dim contenente solo zeri\n",
    "        tweet_embeddings = [np.zeros(embeddings_dim)]\n",
    "    #calcola la media degli embeddings nella lista \n",
    "    tweet_embeddings = compute_embeddings_mean(tweet_embeddings)\n",
    "    return tweet_embeddings"
   ]
  },
  {
   "cell_type": "markdown",
   "id": "17c497ea",
   "metadata": {},
   "source": [
    "### Combinazione 2: media degli embeddings dei tweet di aggettivi, nomi e verbi"
   ]
  },
  {
   "cell_type": "code",
   "execution_count": 64,
   "id": "dbe216af",
   "metadata": {},
   "outputs": [],
   "source": [
    "#Funzione che calcola la media dei word embeddings solo di aggettivi, nomi e verbi\n",
    "def compute_filtered_embeddings_mean(tweet_tokens):\n",
    "    tweet_embeddings = [] #lista per memorizzare gli embeddings dei token selezionati\n",
    "    #per ciascun token del tweet\n",
    "    for token in tweet_tokens:\n",
    "        #vengono estratte la parola e la parte del discorso\n",
    "        word = token['word']\n",
    "        pos = token['pos']\n",
    "        #se la parola è presente negli embeddings e se la parte del discorso è ADJ, NOUN o VERB\n",
    "        if word in embeddings and pos in ['ADJ', 'NOUN', 'VERB']:\n",
    "            #recupera il corrispondente embedding  e lo aggiunge alla lista\n",
    "            tweet_embeddings.append(embeddings[word])\n",
    "    if len(tweet_embeddings) == 0: #se la lista è vuota\n",
    "        tweet_embeddings = [np.zeros(embeddings_dim)] #viene inserito un array di zeri\n",
    "    #calcola la media degli embeddings nella lista\n",
    "    tweet_embeddings = compute_embeddings_mean(tweet_embeddings)\n",
    "    return tweet_embeddings"
   ]
  },
  {
   "cell_type": "markdown",
   "id": "4d1e58a7",
   "metadata": {},
   "source": [
    "### Combinazione 3: media degli embeddings di aggettivi, sostantivi e verbi, calcolata separatamente"
   ]
  },
  {
   "cell_type": "code",
   "execution_count": 65,
   "id": "893ec22d",
   "metadata": {},
   "outputs": [],
   "source": [
    "#Funzione che calcola la media separatamente dei word embedding di aggettivi, nomi e verbi, e concatena i 3 vettori ottenuti\n",
    "def compute_filtered_embeddings_sep_means(tweet_tokens):\n",
    "    #vengono inizializzate tre liste vuote per contenere gli embeddings di aggettivi, nomi e verbi\n",
    "    adj_embeddings = []\n",
    "    noun_embeddings = []\n",
    "    verb_embeddings = []\n",
    "    #per ciascun token del tweet\n",
    "    for token in tweet_tokens:\n",
    "        #vengono estratte la parola e la parte del discorso\n",
    "        word = token['word']\n",
    "        pos = token['pos']\n",
    "        #se la parola è presente negli embeddings e se la parte del discorso è ADJ\n",
    "        if word in embeddings and pos in ['ADJ']:\n",
    "            #l'embedding corrispondente viene aggiunto alla lista adj_embeddings\n",
    "            adj_embeddings.append(embeddings[word])\n",
    "        #se la parola è presente negli embeddings e se la parte del discorso è NOUN\n",
    "        elif word in embeddings and pos in ['NOUN']:\n",
    "            #l'embedding corrispondente viene aggiunto alla lista noun_embeddings\n",
    "            noun_embeddings.append(embeddings[word])\n",
    "        #se la parola è presente negli embeddings e se la parte del discorso è VERB\n",
    "        elif word in embeddings and pos in ['VERB']:\n",
    "            #l'embedding corrispondente viene aggiunto alla lista verb_embeddings\n",
    "            verb_embeddings.append(embeddings[word])\n",
    "    #se le liste sono vuote viene inserito un array di zeri \n",
    "    if len(adj_embeddings) == 0:\n",
    "        adj_embeddings = [np.zeros(embeddings_dim)]\n",
    "    if len(noun_embeddings) == 0:\n",
    "        noun_embeddings = [np.zeros(embeddings_dim)]\n",
    "    if len(verb_embeddings) == 0:\n",
    "        verb_embeddings = [np.zeros(embeddings_dim)]\n",
    "    #vengono calcolate le medie degli embeddings di ciascuna lista\n",
    "    adj_embeddings = compute_embeddings_mean(adj_embeddings)\n",
    "    noun_embeddings = compute_embeddings_mean(noun_embeddings)\n",
    "    verb_embeddings = compute_embeddings_mean(verb_embeddings)\n",
    "    #gli embeddings risultanti vengono concatenati in un singolo array \n",
    "    tweet_embeddings = np.concatenate([adj_embeddings, noun_embeddings, verb_embeddings], axis=None)\n",
    "    return tweet_embeddings"
   ]
  },
  {
   "cell_type": "code",
   "execution_count": 66,
   "id": "acd039b5",
   "metadata": {},
   "outputs": [],
   "source": [
    "def extract_features_1(dataset):   \n",
    "    dataset_features = []\n",
    "    #per ogni token nei tweet nel dataset\n",
    "    for tweet_tokens in dataset:\n",
    "        #calcola gli embeddings medi del tweet\n",
    "        tweet_embeddings = compute_all_embeddings_mean(tweet_tokens)\n",
    "        #appendo il risultato della funzione utilizzata a dataset_features\n",
    "        dataset_features.append(tweet_embeddings)\n",
    "    return dataset_features"
   ]
  },
  {
   "cell_type": "code",
   "execution_count": 67,
   "id": "bb67d4ce",
   "metadata": {},
   "outputs": [],
   "source": [
    "def extract_features_2(dataset):   \n",
    "    dataset_features = []\n",
    "    #per ogni token nei tweet nel dataset\n",
    "    for tweet_tokens in dataset:\n",
    "        #calcola gli embeddings medi del tweet\n",
    "        tweet_embeddings = compute_filtered_embeddings_mean(tweet_tokens)  \n",
    "        #appendo il risultato della funzione utilizzata a dataset_features\n",
    "        dataset_features.append(tweet_embeddings)\n",
    "    return dataset_features"
   ]
  },
  {
   "cell_type": "code",
   "execution_count": 68,
   "id": "4718da0b",
   "metadata": {},
   "outputs": [],
   "source": [
    "def extract_features_3(dataset): \n",
    "    dataset_features = []\n",
    "    #per ogni token nei tweet nel dataset\n",
    "    for tweet_tokens in dataset:\n",
    "        #calcola gli embeddings medi del tweet\n",
    "        tweet_embeddings = compute_filtered_embeddings_sep_means(tweet_tokens)\n",
    "        #appendo il risultato della funzione utilizzata a dataset_features\n",
    "        dataset_features.append(tweet_embeddings)\n",
    "    return dataset_features"
   ]
  },
  {
   "cell_type": "code",
   "execution_count": 69,
   "id": "706bf312",
   "metadata": {},
   "outputs": [],
   "source": [
    "#Estraggo features dal train e test set con i 3 approcci\n",
    "train_features_1 = extract_features_1(train_dataset)\n",
    "test_features_1 = extract_features_1(test_dataset)\n",
    "\n",
    "train_features_2 = extract_features_2(train_dataset)\n",
    "test_features_2 = extract_features_2(test_dataset)\n",
    "\n",
    "train_features_3 = extract_features_3(train_dataset)\n",
    "test_features_3 = extract_features_3(test_dataset)"
   ]
  },
  {
   "cell_type": "code",
   "execution_count": 70,
   "id": "85ffa3e3",
   "metadata": {},
   "outputs": [],
   "source": [
    "def perform_kfold_cross_validation(train_features, test_features, y_train, y_test, invocation):\n",
    "\n",
    "    print(f\"Logica {invocation} di estrazione delle features: \\n\")\n",
    "    \n",
    "    #normalizzazione dati con MinMaxScaler\n",
    "    scaler = MinMaxScaler()\n",
    "    X_train = scaler.fit_transform(train_features)\n",
    "    X_test = scaler.transform(test_features)\n",
    "\n",
    "    #split del training set in 5 fold\n",
    "    splitter = KFold(n_splits=5, random_state=42, shuffle=True)\n",
    "    folds = list(splitter.split(X_train))\n",
    "    for i in range(len(folds)):\n",
    "        print(\" Fold \",(i+1), len(folds[i][0]),\",\", len(folds[i][1]))\n",
    "\n",
    "    #lista per memorizzare le predizioni e le classi reali su tutti i fold\n",
    "    all_y_true = []\n",
    "    all_y_pred = []\n",
    "\n",
    "    print(\"\\n\")\n",
    "    #per ciascun fold\n",
    "    for i in range(len(folds)):\n",
    "        \n",
    "        #estraggo gli indici di train e validation (qui e di seguito definito test) per il fold corrente\n",
    "        train_ids = folds[i][0]\n",
    "        test_ids = folds[i][1]\n",
    "\n",
    "        #suddivido i dati in train e validation per il fold corrente tramite la localizzazione degli ID estratti in folds\n",
    "        fold_X_train = X_train[train_ids]\n",
    "        fold_y_train = y_train[train_ids]\n",
    "\n",
    "        fold_X_test = X_train[test_ids]\n",
    "        fold_y_test = y_train[test_ids]\n",
    "\n",
    "        #addestramento del modello LinearSVC\n",
    "        kfold_svc = LinearSVC(dual= False)\n",
    "        kfold_svc.fit(fold_X_train, fold_y_train)\n",
    "\n",
    "        #predizione sul fold di test (validation)\n",
    "        fold_y_pred = kfold_svc.predict(fold_X_test)\n",
    "        #calcolo l'accuratezza del modello sul fold corrente\n",
    "        fold_accuracy = accuracy_score(fold_y_test, fold_y_pred)\n",
    "    \n",
    "        #aggiungo a queste due variabili le predizioni e i valori reali delle label \n",
    "        all_y_true += fold_y_test.tolist()\n",
    "        all_y_pred += fold_y_pred.tolist()\n",
    "        \n",
    "        #stampa accuracy del fold corrente\n",
    "        print(f\"Accuracy su fold {i+1}: {fold_accuracy}\")\n",
    "       \n",
    " \n",
    "    #valutazione sul training set tramite classification report\n",
    "    print(\" \\n Valutazione sul training set: \\n\")\n",
    "    print(classification_report(all_y_true, all_y_pred, zero_division=0),\"\\n\")\n",
    "    \n",
    "    \n",
    "    #valutazione sul test set tramite classification report\n",
    "    print(\" \\n Valutazione sul test set: \\n\")\n",
    "    test_predictions = kfold_svc.predict(X_test)\n",
    "    print(classification_report(y_test, test_predictions, zero_division=0),\"\\n\")\n",
    "  \n",
    "\n",
    "    #matrice di confusione sul test set\n",
    "    cm_test = confusion_matrix(y_test, test_predictions)\n",
    "    disp_test = ConfusionMatrixDisplay(cm_test)\n",
    "    disp_test.plot(xticks_rotation='vertical', cmap='Blues')\n",
    "    plt.title(f\"Matrice di Confusione - Test Set - Logica {invocation}\")\n",
    "    plt.show()\n",
    "\n",
    "    print(\"-----------------------------------------------------------------------------------------------------------------------------------\")\n",
    "    "
   ]
  },
  {
   "cell_type": "code",
   "execution_count": 71,
   "id": "91706a65",
   "metadata": {},
   "outputs": [
    {
     "name": "stdout",
     "output_type": "stream",
     "text": [
      "Logica 1 di estrazione delle features: \n",
      "\n",
      " Fold  1 3181 , 796\n",
      " Fold  2 3181 , 796\n",
      " Fold  3 3182 , 795\n",
      " Fold  4 3182 , 795\n",
      " Fold  5 3182 , 795\n",
      "\n",
      "\n",
      "Accuracy su fold 1: 0.6871859296482412\n",
      "Accuracy su fold 2: 0.7135678391959799\n",
      "Accuracy su fold 3: 0.7094339622641509\n",
      "Accuracy su fold 4: 0.7245283018867924\n",
      "Accuracy su fold 5: 0.7396226415094339\n",
      " \n",
      " Valutazione sul training set: \n",
      "\n",
      "              precision    recall  f1-score   support\n",
      "\n",
      "           0       0.73      0.67      0.70      1954\n",
      "           1       0.70      0.76      0.73      2023\n",
      "\n",
      "    accuracy                           0.71      3977\n",
      "   macro avg       0.72      0.71      0.71      3977\n",
      "weighted avg       0.72      0.71      0.71      3977\n",
      " \n",
      "\n",
      " \n",
      " Valutazione sul test set: \n",
      "\n",
      "              precision    recall  f1-score   support\n",
      "\n",
      "           0       0.71      0.57      0.63       437\n",
      "           1       0.64      0.77      0.70       435\n",
      "\n",
      "    accuracy                           0.67       872\n",
      "   macro avg       0.68      0.67      0.67       872\n",
      "weighted avg       0.68      0.67      0.67       872\n",
      " \n",
      "\n"
     ]
    },
    {
     "data": {
      "image/png": "[encoded data removed]",
      "text/plain": [
       "<Figure size 640x480 with 2 Axes>"
      ]
     },
     "metadata": {},
     "output_type": "display_data"
    },
    {
     "name": "stdout",
     "output_type": "stream",
     "text": [
      "-----------------------------------------------------------------------------------------------------------------------------------\n",
      "Logica 2 di estrazione delle features: \n",
      "\n",
      " Fold  1 3181 , 796\n",
      " Fold  2 3181 , 796\n",
      " Fold  3 3182 , 795\n",
      " Fold  4 3182 , 795\n",
      " Fold  5 3182 , 795\n",
      "\n",
      "\n",
      "Accuracy su fold 1: 0.6319095477386935\n",
      "Accuracy su fold 2: 0.6934673366834171\n",
      "Accuracy su fold 3: 0.6440251572327044\n",
      "Accuracy su fold 4: 0.6591194968553459\n",
      "Accuracy su fold 5: 0.680503144654088\n",
      " \n",
      " Valutazione sul training set: \n",
      "\n",
      "              precision    recall  f1-score   support\n",
      "\n",
      "           0       0.66      0.65      0.66      1954\n",
      "           1       0.67      0.67      0.67      2023\n",
      "\n",
      "    accuracy                           0.66      3977\n",
      "   macro avg       0.66      0.66      0.66      3977\n",
      "weighted avg       0.66      0.66      0.66      3977\n",
      " \n",
      "\n",
      " \n",
      " Valutazione sul test set: \n",
      "\n",
      "              precision    recall  f1-score   support\n",
      "\n",
      "           0       0.63      0.50      0.56       437\n",
      "           1       0.58      0.70      0.64       435\n",
      "\n",
      "    accuracy                           0.60       872\n",
      "   macro avg       0.61      0.60      0.60       872\n",
      "weighted avg       0.61      0.60      0.60       872\n",
      " \n",
      "\n"
     ]
    },
    {
     "data": {
      "image/png": "[encoded data removed]",
      "text/plain": [
       "<Figure size 640x480 with 2 Axes>"
      ]
     },
     "metadata": {},
     "output_type": "display_data"
    },
    {
     "name": "stdout",
     "output_type": "stream",
     "text": [
      "-----------------------------------------------------------------------------------------------------------------------------------\n",
      "Logica 3 di estrazione delle features: \n",
      "\n",
      " Fold  1 3181 , 796\n",
      " Fold  2 3181 , 796\n",
      " Fold  3 3182 , 795\n",
      " Fold  4 3182 , 795\n",
      " Fold  5 3182 , 795\n",
      "\n",
      "\n",
      "Accuracy su fold 1: 0.6118090452261307\n",
      "Accuracy su fold 2: 0.6532663316582915\n",
      "Accuracy su fold 3: 0.6540880503144654\n",
      "Accuracy su fold 4: 0.6264150943396226\n",
      "Accuracy su fold 5: 0.670440251572327\n",
      " \n",
      " Valutazione sul training set: \n",
      "\n",
      "              precision    recall  f1-score   support\n",
      "\n",
      "           0       0.64      0.64      0.64      1954\n",
      "           1       0.65      0.64      0.65      2023\n",
      "\n",
      "    accuracy                           0.64      3977\n",
      "   macro avg       0.64      0.64      0.64      3977\n",
      "weighted avg       0.64      0.64      0.64      3977\n",
      " \n",
      "\n",
      " \n",
      " Valutazione sul test set: \n",
      "\n",
      "              precision    recall  f1-score   support\n",
      "\n",
      "           0       0.63      0.55      0.59       437\n",
      "           1       0.60      0.68      0.64       435\n",
      "\n",
      "    accuracy                           0.62       872\n",
      "   macro avg       0.62      0.62      0.61       872\n",
      "weighted avg       0.62      0.62      0.61       872\n",
      " \n",
      "\n"
     ]
    },
    {
     "data": {
      "image/png": "[encoded data removed]",
      "text/plain": [
       "<Figure size 640x480 with 2 Axes>"
      ]
     },
     "metadata": {},
     "output_type": "display_data"
    },
    {
     "name": "stdout",
     "output_type": "stream",
     "text": [
      "-----------------------------------------------------------------------------------------------------------------------------------\n"
     ]
    }
   ],
   "source": [
    "# Realizzo cross-validation utilizzando le features estratte tramite l'utilizzo delle tre diverse logiche\n",
    "perform_kfold_cross_validation(train_features_1, test_features_1, y_train, y_test, 1)\n",
    "perform_kfold_cross_validation(train_features_2, test_features_2, y_train, y_test, 2)\n",
    "perform_kfold_cross_validation(train_features_3, test_features_3, y_train, y_test, 3)"
   ]
  },
  {
   "cell_type": "code",
   "execution_count": null,
   "id": "cd89e3ff",
   "metadata": {},
   "outputs": [],
   "source": []
  }
 ],
 "metadata": {
  "kernelspec": {
   "display_name": "Python 3 (ipykernel)",
   "language": "python",
   "name": "python3"
  },
  "language_info": {
   "codemirror_mode": {
    "name": "ipython",
    "version": 3
   },
   "file_extension": ".py",
   "mimetype": "text/x-python",
   "name": "python",
   "nbconvert_exporter": "python",
   "pygments_lexer": "ipython3",
   "version": "3.10.9"
  }
 },
 "nbformat": 4,
 "nbformat_minor": 5
}
